{
 "cells": [
  {
   "cell_type": "code",
   "execution_count": 2,
   "metadata": {
    "ExecuteTime": {
     "end_time": "2019-12-16T19:35:50.202215Z",
     "start_time": "2019-12-16T19:35:50.196421Z"
    }
   },
   "outputs": [],
   "source": [
    "from mpl_toolkits.mplot3d import Axes3D\n",
    "from sklearn import preprocessing\n",
    "from sklearn.preprocessing import StandardScaler\n",
    "from sklearn.model_selection import train_test_split, GridSearchCV\n",
    "from sklearn import svm\n",
    "import os\n",
    "import xgboost as xgb\n",
    "import sklearn\n",
    "import matplotlib.pyplot as plt\n",
    "import numpy as np\n",
    "import pandas as pd\n",
    "import os\n",
    "from glob import glob\n",
    "import seaborn as sns\n",
    "from PIL import Image\n",
    "from sklearn.metrics import roc_auc_score, roc_curve, auc\n",
    "from sklearn.metrics import accuracy_score\n",
    "from sklearn.decomposition import PCA\n",
    "from sklearn.discriminant_analysis import LinearDiscriminantAnalysis\n",
    "from sklearn.ensemble import RandomForestClassifier\n",
    "from sklearn.neighbors import KNeighborsClassifier\n",
    "from sklearn.model_selection import train_test_split, cross_val_score\n",
    "from sklearn.model_selection import KFold, StratifiedKFold\n",
    "from sklearn.metrics import confusion_matrix, accuracy_score, classification_report\n",
    "from sklearn.linear_model import LogisticRegression\n",
    "\n",
    "import cv2\n",
    "%matplotlib inline\n",
    "sns.set_style(\"dark\")\n",
    "import warnings\n",
    "warnings.filterwarnings('ignore')"
   ]
  },
  {
   "cell_type": "code",
   "execution_count": 3,
   "metadata": {
    "ExecuteTime": {
     "end_time": "2019-12-16T19:35:52.373842Z",
     "start_time": "2019-12-16T19:35:52.369496Z"
    }
   },
   "outputs": [],
   "source": [
    "def load_image_data(folder_benign='../data/resized/benign', folder_malignant='../data/resized/malignant'):\n",
    "    ims_benign = np.array([cv2.imread(os.path.join(folder_benign, filename)) for filename in os.listdir(folder_benign)])\n",
    "    ims_malignant = np.array([cv2.imread(os.path.join(folder_malignant, filename)) for filename in os.listdir(folder_malignant)])\n",
    "    print(f\"Benign images vector shape: {ims_benign.shape}\")\n",
    "    print(f\"Malignant images vector shape: {ims_malignant.shape}\")\n",
    "    return ims_benign, ims_malignant"
   ]
  },
  {
   "cell_type": "code",
   "execution_count": 4,
   "metadata": {
    "ExecuteTime": {
     "end_time": "2019-12-16T19:35:54.261340Z",
     "start_time": "2019-12-16T19:35:54.258014Z"
    }
   },
   "outputs": [],
   "source": [
    "def flatten_image_vectors_and_generate_labels(ims_benign, ims_malignant):\n",
    "    X_benign = ims_benign.flatten().reshape(ims_benign.shape[0], ims_benign.shape[1] * ims_benign.shape[2] * ims_benign.shape[3])\n",
    "    X_malinant = ims_malignant.flatten().reshape(ims_malignant.shape[0], ims_malignant.shape[1] * ims_malignant.shape[2] * ims_malignant.shape[3])\n",
    "    return X_benign, X_malinant"
   ]
  },
  {
   "cell_type": "code",
   "execution_count": 5,
   "metadata": {
    "ExecuteTime": {
     "end_time": "2019-12-16T19:35:56.551461Z",
     "start_time": "2019-12-16T19:35:56.546451Z"
    }
   },
   "outputs": [],
   "source": [
    "def get_test_train_data(X_benign, X_malinant, seed, scaled=True):\n",
    "    X_train_benign, X_test_benign, Y_train_benign, Y_test_benign = train_test_split(X_benign, np.zeros(X_benign.shape[0]), test_size=0.1, random_state=seed)\n",
    "    X_train_malinant, X_test_malinant, Y_train_malinant, Y_test_malinant = train_test_split(X_malinant, np.ones(X_malinant.shape[0]), test_size=0.1, random_state=seed)\n",
    "    X_train = np.concatenate((X_train_benign, X_train_malinant), axis=0)\n",
    "    Y_train = np.concatenate((Y_train_benign, Y_train_malinant), axis=0)\n",
    "    X_test = np.concatenate((X_test_benign, X_test_malinant), axis=0)\n",
    "    Y_test = np.concatenate((Y_test_benign, Y_test_malinant), axis=0)\n",
    "    if scaled:\n",
    "        scaler = StandardScaler().fit(X_train)\n",
    "        X_train_scaled = scaler.transform(X_train)\n",
    "        X_test_scaled = scaler.transform(X_test)\n",
    "        return X_train_scaled, X_test_scaled, Y_train, Y_test\n",
    "    return (X_train, X_test, Y_train, Y_test)"
   ]
  },
  {
   "cell_type": "code",
   "execution_count": 29,
   "metadata": {
    "ExecuteTime": {
     "end_time": "2019-12-16T20:06:51.014616Z",
     "start_time": "2019-12-16T20:04:35.413254Z"
    }
   },
   "outputs": [
    {
     "name": "stdout",
     "output_type": "stream",
     "text": [
      "Benign images vector shape: (150, 450, 600, 3)\n",
      "Malignant images vector shape: (150, 450, 600, 3)\n"
     ]
    }
   ],
   "source": [
    "seed=42\n",
    "ims_benign, ims_malignant = load_image_data('../data/resized_600_450/benign', '../data/resized_600_450/malignant/')\n",
    "X_benign,X_malinant = flatten_image_vectors_and_generate_labels(ims_benign=ims_benign, ims_malignant=ims_malignant)\n",
    "X = np.concatenate((X_benign, X_malinant), axis=0)\n",
    "Y = np.concatenate((np.zeros(X_benign.shape[0]), np.ones(X_malinant.shape[0])))\n",
    "# X_train_full, X_test_full, Y_train_full, Y_test_full = get_test_train_data(X_benign=X_benign, X_malinant=X_malinant, seed=seed)\n",
    "scaler = StandardScaler().fit(X)\n",
    "X_scaled = scaler.transform(X)\n",
    "# X_test = scaler.transform(X_test_full)\n",
    "pca = PCA(.998)\n",
    "pca.fit(X_scaled)\n",
    "X_pca = pca.transform(X_scaled)\n"
   ]
  },
  {
   "cell_type": "code",
   "execution_count": 30,
   "metadata": {
    "ExecuteTime": {
     "end_time": "2019-12-16T20:07:01.921568Z",
     "start_time": "2019-12-16T20:07:01.906952Z"
    }
   },
   "outputs": [],
   "source": [
    "seed = 42\n",
    "num_trees=150\n",
    "models = {\n",
    "     'SVM' : svm.SVC(random_state=42, gamma='scale'),\n",
    "     'LDA' : LinearDiscriminantAnalysis(),\n",
    "     'XGBoost' : xgb.XGBClassifier(),\n",
    "     'RF': RandomForestClassifier(n_estimators=num_trees, random_state=seed),\n",
    "     'LR':LogisticRegression(solver='lbfgs', max_iter=1000)\n",
    " }"
   ]
  },
  {
   "cell_type": "code",
   "execution_count": 31,
   "metadata": {
    "ExecuteTime": {
     "end_time": "2019-12-16T20:07:14.352661Z",
     "start_time": "2019-12-16T20:07:06.853283Z"
    }
   },
   "outputs": [
    {
     "name": "stdout",
     "output_type": "stream",
     "text": [
      "Model:SVM --> Mean:[0.5866666666666667] , STD:[0.11274356350191841]\n",
      "Model:LDA --> Mean:[0.52] , STD:[0.0805536398239638]\n",
      "Model:XGBoost --> Mean:[0.5933333333333333] , STD:[0.11333333333333334]\n",
      "Model:RF --> Mean:[0.6233333333333334] , STD:[0.0683942817622773]\n",
      "Model:LR --> Mean:[0.5599999999999999] , STD:[0.08793937305515277]\n"
     ]
    },
    {
     "data": {
      "image/png": "[encoded data removed]",
      "text/plain": [
       "<Figure size 432x288 with 1 Axes>"
      ]
     },
     "metadata": {},
     "output_type": "display_data"
    }
   ],
   "source": [
    "results = []\n",
    "names =[]\n",
    "for name, model in models.items():\n",
    "    cv_results = cross_val_score(model, X_pca, Y, cv=KFold(n_splits=10), scoring=\"accuracy\", n_jobs=-1)\n",
    "    print(f\"Model:{name} --> Mean:[{cv_results.mean()}] , STD:[{cv_results.std()}]\")\n",
    "    names.append(name)\n",
    "    results.append(cv_results)\n",
    "fig = plt.figure()\n",
    "fig.suptitle(f'Model Comparison')\n",
    "ax = fig.add_subplot(111)\n",
    "plt.boxplot(results)\n",
    "ax.set_xticklabels(names)\n",
    "plt.ylabel(\"Accuracy\")\n",
    "plt.show()"
   ]
  },
  {
   "cell_type": "code",
   "execution_count": 32,
   "metadata": {
    "ExecuteTime": {
     "end_time": "2019-12-16T20:09:32.919364Z",
     "start_time": "2019-12-16T20:09:29.910472Z"
    }
   },
   "outputs": [
    {
     "name": "stdout",
     "output_type": "stream",
     "text": [
      "Fitting 10 folds for each of 25 candidates, totalling 250 fits\n"
     ]
    },
    {
     "name": "stderr",
     "output_type": "stream",
     "text": [
      "[Parallel(n_jobs=5)]: Using backend LokyBackend with 5 concurrent workers.\n",
      "[Parallel(n_jobs=5)]: Done  22 tasks      | elapsed:    0.5s\n",
      "[Parallel(n_jobs=5)]: Done 241 out of 250 | elapsed:    2.2s remaining:    0.1s\n",
      "[Parallel(n_jobs=5)]: Done 250 out of 250 | elapsed:    2.3s finished\n"
     ]
    },
    {
     "data": {
      "text/plain": [
       "GridSearchCV(cv=KFold(n_splits=10, random_state=None, shuffle=False),\n",
       "             error_score='raise-deprecating',\n",
       "             estimator=SVC(C=1.0, cache_size=200, class_weight=None, coef0=0.0,\n",
       "                           decision_function_shape='ovr', degree=3,\n",
       "                           gamma='auto_deprecated', kernel='rbf', max_iter=-1,\n",
       "                           probability=False, random_state=None, shrinking=True,\n",
       "                           tol=0.001, verbose=False),\n",
       "             iid='warn', n_jobs=5,\n",
       "             param_grid={'C': [0.1, 1, 10, 100, 1000],\n",
       "                         'gamma': [1, 0.1, 0.01, 0.001, 0.0001],\n",
       "                         'kernel': ['rbf']},\n",
       "             pre_dispatch='2*n_jobs', refit=True, return_train_score=False,\n",
       "             scoring=None, verbose=3)"
      ]
     },
     "execution_count": 32,
     "metadata": {},
     "output_type": "execute_result"
    }
   ],
   "source": [
    "param_grid = {'C': [0.1, 1, 10, 100, 1000],  \n",
    "              'gamma': [1, 0.1, 0.01, 0.001, 0.0001], \n",
    "              'kernel': ['rbf']}\n",
    "  \n",
    "grid = GridSearchCV(svm.SVC(), param_grid, refit = True, verbose = 3, cv=KFold(n_splits=10), n_jobs=5)   \n",
    "grid.fit(X_pca, Y)"
   ]
  },
  {
   "cell_type": "code",
   "execution_count": 49,
   "metadata": {
    "ExecuteTime": {
     "end_time": "2019-12-16T20:17:07.400951Z",
     "start_time": "2019-12-16T20:17:07.397351Z"
    }
   },
   "outputs": [],
   "source": [
    "X_train,X_test, Y_train, Y_test = train_test_split(X_pca, Y, test_size=0.2)"
   ]
  },
  {
   "cell_type": "code",
   "execution_count": 52,
   "metadata": {
    "ExecuteTime": {
     "end_time": "2019-12-16T20:19:08.359804Z",
     "start_time": "2019-12-16T20:19:07.470691Z"
    }
   },
   "outputs": [],
   "source": [
    "Cs = [0.1, 1, 10, 15, 20, 100]\n",
    "gammas= [1, 0.1, 0.01, 0.001, 0.0001]\n",
    "\n",
    "accuracy = []\n",
    "for C in Cs:\n",
    "    for gamma in gammas:\n",
    "        clf = svm.SVC(C=C, gamma=gamma, kernel='linear')\n",
    "        clf.fit(X_train, Y_train)\n",
    "        pred = clf.predict(X_test)\n",
    "        accuracy.append((C, gamma, accuracy_score(Y_test, pred)))"
   ]
  },
  {
   "cell_type": "code",
   "execution_count": 53,
   "metadata": {
    "ExecuteTime": {
     "end_time": "2019-12-16T20:19:10.092835Z",
     "start_time": "2019-12-16T20:19:10.085678Z"
    }
   },
   "outputs": [
    {
     "data": {
      "text/plain": [
       "[(0.1, 1, 0.6166666666666667),\n",
       " (0.1, 0.1, 0.6166666666666667),\n",
       " (0.1, 0.01, 0.6166666666666667),\n",
       " (0.1, 0.001, 0.6166666666666667),\n",
       " (0.1, 0.0001, 0.6166666666666667),\n",
       " (1, 1, 0.6166666666666667),\n",
       " (1, 0.1, 0.6166666666666667),\n",
       " (1, 0.01, 0.6166666666666667),\n",
       " (1, 0.001, 0.6166666666666667),\n",
       " (1, 0.0001, 0.6166666666666667),\n",
       " (10, 1, 0.6166666666666667),\n",
       " (10, 0.1, 0.6166666666666667),\n",
       " (10, 0.01, 0.6166666666666667),\n",
       " (10, 0.001, 0.6166666666666667),\n",
       " (10, 0.0001, 0.6166666666666667),\n",
       " (15, 1, 0.6166666666666667),\n",
       " (15, 0.1, 0.6166666666666667),\n",
       " (15, 0.01, 0.6166666666666667),\n",
       " (15, 0.001, 0.6166666666666667),\n",
       " (15, 0.0001, 0.6166666666666667),\n",
       " (20, 1, 0.6166666666666667),\n",
       " (20, 0.1, 0.6166666666666667),\n",
       " (20, 0.01, 0.6166666666666667),\n",
       " (20, 0.001, 0.6166666666666667),\n",
       " (20, 0.0001, 0.6166666666666667),\n",
       " (100, 1, 0.6166666666666667),\n",
       " (100, 0.1, 0.6166666666666667),\n",
       " (100, 0.01, 0.6166666666666667),\n",
       " (100, 0.001, 0.6166666666666667),\n",
       " (100, 0.0001, 0.6166666666666667)]"
      ]
     },
     "execution_count": 53,
     "metadata": {},
     "output_type": "execute_result"
    }
   ],
   "source": [
    "accuracy"
   ]
  },
  {
   "cell_type": "code",
   "execution_count": 13,
   "metadata": {
    "ExecuteTime": {
     "end_time": "2019-12-16T19:44:25.431435Z",
     "start_time": "2019-12-16T19:44:24.804484Z"
    }
   },
   "outputs": [
    {
     "name": "stdout",
     "output_type": "stream",
     "text": [
      "[0]\tvalidation_0-auc:0.844938\tvalidation_0-error:0.17037\tvalidation_1-auc:0.84\tvalidation_1-error:0.2\n",
      "[1]\tvalidation_0-auc:0.893443\tvalidation_0-error:0.181481\tvalidation_1-auc:0.84\tvalidation_1-error:0.266667\n",
      "[2]\tvalidation_0-auc:0.922798\tvalidation_0-error:0.159259\tvalidation_1-auc:0.817778\tvalidation_1-error:0.233333\n",
      "[3]\tvalidation_0-auc:0.933909\tvalidation_0-error:0.159259\tvalidation_1-auc:0.78\tvalidation_1-error:0.266667\n",
      "[4]\tvalidation_0-auc:0.945487\tvalidation_0-error:0.144444\tvalidation_1-auc:0.773333\tvalidation_1-error:0.3\n",
      "[5]\tvalidation_0-auc:0.954348\tvalidation_0-error:0.140741\tvalidation_1-auc:0.775556\tvalidation_1-error:0.333333\n",
      "[6]\tvalidation_0-auc:0.954595\tvalidation_0-error:0.125926\tvalidation_1-auc:0.775556\tvalidation_1-error:0.233333\n",
      "[7]\tvalidation_0-auc:0.961317\tvalidation_0-error:0.125926\tvalidation_1-auc:0.768889\tvalidation_1-error:0.233333\n",
      "[8]\tvalidation_0-auc:0.969904\tvalidation_0-error:0.107407\tvalidation_1-auc:0.757778\tvalidation_1-error:0.266667\n",
      "[9]\tvalidation_0-auc:0.974897\tvalidation_0-error:0.111111\tvalidation_1-auc:0.795556\tvalidation_1-error:0.266667\n",
      "[10]\tvalidation_0-auc:0.97775\tvalidation_0-error:0.1\tvalidation_1-auc:0.773333\tvalidation_1-error:0.3\n",
      "[11]\tvalidation_0-auc:0.980329\tvalidation_0-error:0.092593\tvalidation_1-auc:0.773333\tvalidation_1-error:0.3\n",
      "[12]\tvalidation_0-auc:0.982579\tvalidation_0-error:0.085185\tvalidation_1-auc:0.76\tvalidation_1-error:0.3\n",
      "[13]\tvalidation_0-auc:0.984006\tvalidation_0-error:0.077778\tvalidation_1-auc:0.768889\tvalidation_1-error:0.266667\n",
      "[14]\tvalidation_0-auc:0.987545\tvalidation_0-error:0.059259\tvalidation_1-auc:0.786667\tvalidation_1-error:0.233333\n",
      "[15]\tvalidation_0-auc:0.988807\tvalidation_0-error:0.055556\tvalidation_1-auc:0.791111\tvalidation_1-error:0.266667\n",
      "[16]\tvalidation_0-auc:0.990782\tvalidation_0-error:0.048148\tvalidation_1-auc:0.795556\tvalidation_1-error:0.3\n",
      "[17]\tvalidation_0-auc:0.992647\tvalidation_0-error:0.044444\tvalidation_1-auc:0.791111\tvalidation_1-error:0.266667\n",
      "[18]\tvalidation_0-auc:0.994787\tvalidation_0-error:0.02963\tvalidation_1-auc:0.8\tvalidation_1-error:0.233333\n",
      "[19]\tvalidation_0-auc:0.995775\tvalidation_0-error:0.02963\tvalidation_1-auc:0.791111\tvalidation_1-error:0.233333\n",
      "[20]\tvalidation_0-auc:0.996104\tvalidation_0-error:0.02963\tvalidation_1-auc:0.786667\tvalidation_1-error:0.266667\n",
      "[21]\tvalidation_0-auc:0.996433\tvalidation_0-error:0.02963\tvalidation_1-auc:0.782222\tvalidation_1-error:0.3\n",
      "[22]\tvalidation_0-auc:0.996763\tvalidation_0-error:0.025926\tvalidation_1-auc:0.777778\tvalidation_1-error:0.266667\n",
      "[23]\tvalidation_0-auc:0.997476\tvalidation_0-error:0.014815\tvalidation_1-auc:0.782222\tvalidation_1-error:0.333333\n",
      "[24]\tvalidation_0-auc:0.99808\tvalidation_0-error:0.014815\tvalidation_1-auc:0.768889\tvalidation_1-error:0.333333\n",
      "[25]\tvalidation_0-auc:0.998464\tvalidation_0-error:0.014815\tvalidation_1-auc:0.777778\tvalidation_1-error:0.333333\n",
      "[26]\tvalidation_0-auc:0.998793\tvalidation_0-error:0.014815\tvalidation_1-auc:0.768889\tvalidation_1-error:0.3\n",
      "[27]\tvalidation_0-auc:0.999122\tvalidation_0-error:0.011111\tvalidation_1-auc:0.76\tvalidation_1-error:0.3\n",
      "[28]\tvalidation_0-auc:0.999342\tvalidation_0-error:0.011111\tvalidation_1-auc:0.764444\tvalidation_1-error:0.3\n",
      "[29]\tvalidation_0-auc:0.999342\tvalidation_0-error:0.011111\tvalidation_1-auc:0.764444\tvalidation_1-error:0.3\n",
      "[30]\tvalidation_0-auc:0.999616\tvalidation_0-error:0.011111\tvalidation_1-auc:0.773333\tvalidation_1-error:0.3\n",
      "[31]\tvalidation_0-auc:0.999671\tvalidation_0-error:0.007407\tvalidation_1-auc:0.777778\tvalidation_1-error:0.3\n",
      "[32]\tvalidation_0-auc:0.999781\tvalidation_0-error:0.007407\tvalidation_1-auc:0.786667\tvalidation_1-error:0.3\n",
      "[33]\tvalidation_0-auc:0.999726\tvalidation_0-error:0.007407\tvalidation_1-auc:0.791111\tvalidation_1-error:0.266667\n",
      "[34]\tvalidation_0-auc:0.999781\tvalidation_0-error:0.007407\tvalidation_1-auc:0.791111\tvalidation_1-error:0.266667\n",
      "[35]\tvalidation_0-auc:0.99989\tvalidation_0-error:0.007407\tvalidation_1-auc:0.791111\tvalidation_1-error:0.266667\n",
      "[36]\tvalidation_0-auc:0.99989\tvalidation_0-error:0.007407\tvalidation_1-auc:0.795556\tvalidation_1-error:0.266667\n",
      "[37]\tvalidation_0-auc:0.999945\tvalidation_0-error:0.007407\tvalidation_1-auc:0.795556\tvalidation_1-error:0.266667\n",
      "[38]\tvalidation_0-auc:0.99989\tvalidation_0-error:0.007407\tvalidation_1-auc:0.795556\tvalidation_1-error:0.233333\n",
      "[39]\tvalidation_0-auc:0.99989\tvalidation_0-error:0.007407\tvalidation_1-auc:0.8\tvalidation_1-error:0.266667\n",
      "[40]\tvalidation_0-auc:0.999945\tvalidation_0-error:0.007407\tvalidation_1-auc:0.804444\tvalidation_1-error:0.233333\n",
      "[41]\tvalidation_0-auc:0.999945\tvalidation_0-error:0.003704\tvalidation_1-auc:0.8\tvalidation_1-error:0.233333\n",
      "[42]\tvalidation_0-auc:0.999945\tvalidation_0-error:0.007407\tvalidation_1-auc:0.813333\tvalidation_1-error:0.233333\n",
      "[43]\tvalidation_0-auc:1\tvalidation_0-error:0.003704\tvalidation_1-auc:0.804444\tvalidation_1-error:0.233333\n",
      "[44]\tvalidation_0-auc:1\tvalidation_0-error:0\tvalidation_1-auc:0.791111\tvalidation_1-error:0.233333\n",
      "[45]\tvalidation_0-auc:1\tvalidation_0-error:0\tvalidation_1-auc:0.791111\tvalidation_1-error:0.233333\n",
      "[46]\tvalidation_0-auc:1\tvalidation_0-error:0\tvalidation_1-auc:0.795556\tvalidation_1-error:0.233333\n",
      "[47]\tvalidation_0-auc:1\tvalidation_0-error:0\tvalidation_1-auc:0.786667\tvalidation_1-error:0.233333\n",
      "[48]\tvalidation_0-auc:1\tvalidation_0-error:0\tvalidation_1-auc:0.786667\tvalidation_1-error:0.233333\n",
      "[49]\tvalidation_0-auc:1\tvalidation_0-error:0\tvalidation_1-auc:0.782222\tvalidation_1-error:0.233333\n",
      "[50]\tvalidation_0-auc:1\tvalidation_0-error:0\tvalidation_1-auc:0.782222\tvalidation_1-error:0.233333\n",
      "[51]\tvalidation_0-auc:1\tvalidation_0-error:0\tvalidation_1-auc:0.786667\tvalidation_1-error:0.233333\n",
      "[52]\tvalidation_0-auc:1\tvalidation_0-error:0\tvalidation_1-auc:0.786667\tvalidation_1-error:0.233333\n",
      "[53]\tvalidation_0-auc:1\tvalidation_0-error:0\tvalidation_1-auc:0.786667\tvalidation_1-error:0.233333\n",
      "[54]\tvalidation_0-auc:1\tvalidation_0-error:0\tvalidation_1-auc:0.777778\tvalidation_1-error:0.233333\n",
      "[55]\tvalidation_0-auc:1\tvalidation_0-error:0\tvalidation_1-auc:0.777778\tvalidation_1-error:0.233333\n",
      "[56]\tvalidation_0-auc:1\tvalidation_0-error:0\tvalidation_1-auc:0.777778\tvalidation_1-error:0.233333\n",
      "[57]\tvalidation_0-auc:1\tvalidation_0-error:0\tvalidation_1-auc:0.782222\tvalidation_1-error:0.233333\n",
      "[58]\tvalidation_0-auc:1\tvalidation_0-error:0\tvalidation_1-auc:0.777778\tvalidation_1-error:0.233333\n",
      "[59]\tvalidation_0-auc:1\tvalidation_0-error:0\tvalidation_1-auc:0.786667\tvalidation_1-error:0.233333\n",
      "[60]\tvalidation_0-auc:1\tvalidation_0-error:0\tvalidation_1-auc:0.782222\tvalidation_1-error:0.233333\n",
      "[61]\tvalidation_0-auc:1\tvalidation_0-error:0\tvalidation_1-auc:0.782222\tvalidation_1-error:0.233333\n",
      "[62]\tvalidation_0-auc:1\tvalidation_0-error:0\tvalidation_1-auc:0.777778\tvalidation_1-error:0.233333\n",
      "[63]\tvalidation_0-auc:1\tvalidation_0-error:0\tvalidation_1-auc:0.777778\tvalidation_1-error:0.233333\n",
      "[64]\tvalidation_0-auc:1\tvalidation_0-error:0\tvalidation_1-auc:0.777778\tvalidation_1-error:0.233333\n",
      "[65]\tvalidation_0-auc:1\tvalidation_0-error:0\tvalidation_1-auc:0.786667\tvalidation_1-error:0.233333\n",
      "[66]\tvalidation_0-auc:1\tvalidation_0-error:0\tvalidation_1-auc:0.786667\tvalidation_1-error:0.233333\n",
      "[67]\tvalidation_0-auc:1\tvalidation_0-error:0\tvalidation_1-auc:0.777778\tvalidation_1-error:0.233333\n",
      "[68]\tvalidation_0-auc:1\tvalidation_0-error:0\tvalidation_1-auc:0.782222\tvalidation_1-error:0.233333\n",
      "[69]\tvalidation_0-auc:1\tvalidation_0-error:0\tvalidation_1-auc:0.782222\tvalidation_1-error:0.233333\n",
      "[70]\tvalidation_0-auc:1\tvalidation_0-error:0\tvalidation_1-auc:0.782222\tvalidation_1-error:0.233333\n",
      "[71]\tvalidation_0-auc:1\tvalidation_0-error:0\tvalidation_1-auc:0.782222\tvalidation_1-error:0.233333\n",
      "[72]\tvalidation_0-auc:1\tvalidation_0-error:0\tvalidation_1-auc:0.777778\tvalidation_1-error:0.233333\n",
      "[73]\tvalidation_0-auc:1\tvalidation_0-error:0\tvalidation_1-auc:0.782222\tvalidation_1-error:0.233333\n",
      "[74]\tvalidation_0-auc:1\tvalidation_0-error:0\tvalidation_1-auc:0.768889\tvalidation_1-error:0.233333\n",
      "[75]\tvalidation_0-auc:1\tvalidation_0-error:0\tvalidation_1-auc:0.773333\tvalidation_1-error:0.233333\n",
      "[76]\tvalidation_0-auc:1\tvalidation_0-error:0\tvalidation_1-auc:0.768889\tvalidation_1-error:0.233333\n",
      "[77]\tvalidation_0-auc:1\tvalidation_0-error:0\tvalidation_1-auc:0.764444\tvalidation_1-error:0.233333\n"
     ]
    },
    {
     "name": "stdout",
     "output_type": "stream",
     "text": [
      "[78]\tvalidation_0-auc:1\tvalidation_0-error:0\tvalidation_1-auc:0.773333\tvalidation_1-error:0.233333\n",
      "[79]\tvalidation_0-auc:1\tvalidation_0-error:0\tvalidation_1-auc:0.773333\tvalidation_1-error:0.233333\n",
      "[80]\tvalidation_0-auc:1\tvalidation_0-error:0\tvalidation_1-auc:0.777778\tvalidation_1-error:0.233333\n",
      "[81]\tvalidation_0-auc:1\tvalidation_0-error:0\tvalidation_1-auc:0.777778\tvalidation_1-error:0.233333\n",
      "[82]\tvalidation_0-auc:1\tvalidation_0-error:0\tvalidation_1-auc:0.773333\tvalidation_1-error:0.233333\n",
      "[83]\tvalidation_0-auc:1\tvalidation_0-error:0\tvalidation_1-auc:0.773333\tvalidation_1-error:0.233333\n",
      "[84]\tvalidation_0-auc:1\tvalidation_0-error:0\tvalidation_1-auc:0.768889\tvalidation_1-error:0.233333\n",
      "[85]\tvalidation_0-auc:1\tvalidation_0-error:0\tvalidation_1-auc:0.773333\tvalidation_1-error:0.233333\n",
      "[86]\tvalidation_0-auc:1\tvalidation_0-error:0\tvalidation_1-auc:0.773333\tvalidation_1-error:0.233333\n",
      "[87]\tvalidation_0-auc:1\tvalidation_0-error:0\tvalidation_1-auc:0.777778\tvalidation_1-error:0.233333\n",
      "[88]\tvalidation_0-auc:1\tvalidation_0-error:0\tvalidation_1-auc:0.777778\tvalidation_1-error:0.233333\n",
      "[89]\tvalidation_0-auc:1\tvalidation_0-error:0\tvalidation_1-auc:0.782222\tvalidation_1-error:0.233333\n",
      "[90]\tvalidation_0-auc:1\tvalidation_0-error:0\tvalidation_1-auc:0.782222\tvalidation_1-error:0.233333\n",
      "[91]\tvalidation_0-auc:1\tvalidation_0-error:0\tvalidation_1-auc:0.782222\tvalidation_1-error:0.233333\n",
      "[92]\tvalidation_0-auc:1\tvalidation_0-error:0\tvalidation_1-auc:0.773333\tvalidation_1-error:0.233333\n",
      "[93]\tvalidation_0-auc:1\tvalidation_0-error:0\tvalidation_1-auc:0.782222\tvalidation_1-error:0.233333\n",
      "[94]\tvalidation_0-auc:1\tvalidation_0-error:0\tvalidation_1-auc:0.782222\tvalidation_1-error:0.233333\n",
      "[95]\tvalidation_0-auc:1\tvalidation_0-error:0\tvalidation_1-auc:0.786667\tvalidation_1-error:0.233333\n",
      "[96]\tvalidation_0-auc:1\tvalidation_0-error:0\tvalidation_1-auc:0.786667\tvalidation_1-error:0.233333\n",
      "[97]\tvalidation_0-auc:1\tvalidation_0-error:0\tvalidation_1-auc:0.777778\tvalidation_1-error:0.233333\n",
      "[98]\tvalidation_0-auc:1\tvalidation_0-error:0\tvalidation_1-auc:0.791111\tvalidation_1-error:0.233333\n",
      "[99]\tvalidation_0-auc:1\tvalidation_0-error:0\tvalidation_1-auc:0.795556\tvalidation_1-error:0.233333\n",
      "CPU times: user 604 ms, sys: 41.6 ms, total: 646 ms\n",
      "Wall time: 616 ms\n"
     ]
    },
    {
     "data": {
      "text/plain": [
       "XGBClassifier(base_score=0.5, booster='gbtree', colsample_bylevel=1,\n",
       "              colsample_bynode=1, colsample_bytree=1, gamma=0,\n",
       "              learning_rate=0.1, max_delta_step=0, max_depth=3,\n",
       "              min_child_weight=1, missing=None, n_estimators=100, n_jobs=1,\n",
       "              nthread=None, objective='binary:logistic', random_state=0,\n",
       "              reg_alpha=0, reg_lambda=1, scale_pos_weight=1, seed=None,\n",
       "              silent=None, subsample=1, verbosity=1)"
      ]
     },
     "execution_count": 13,
     "metadata": {},
     "output_type": "execute_result"
    }
   ],
   "source": [
    "xgb_model = xgb.XGBClassifier()\n",
    "eval_set = [(X_train_p, Y_train_full), (X_test_p, Y_test_full)]\n",
    "eval_metric = [\"auc\", \"error\"]\n",
    "%time xgb_model.fit(X_train_p, Y_train_full, eval_metric=eval_metric, eval_set=eval_set, verbose=True)\n"
   ]
  },
  {
   "cell_type": "code",
   "execution_count": 18,
   "metadata": {
    "ExecuteTime": {
     "end_time": "2019-12-16T19:51:16.805649Z",
     "start_time": "2019-12-16T19:51:16.801535Z"
    }
   },
   "outputs": [
    {
     "data": {
      "text/plain": [
       "dict_keys(['auc', 'error'])"
      ]
     },
     "execution_count": 18,
     "metadata": {},
     "output_type": "execute_result"
    }
   ],
   "source": [
    "xgb_model.evals_result_['validation_1'].keys()"
   ]
  },
  {
   "cell_type": "code",
   "execution_count": 24,
   "metadata": {
    "ExecuteTime": {
     "end_time": "2019-12-16T19:52:36.122038Z",
     "start_time": "2019-12-16T19:52:35.840695Z"
    }
   },
   "outputs": [
    {
     "data": {
      "image/png": "[encoded data removed]",
      "text/plain": [
       "<Figure size 432x288 with 1 Axes>"
      ]
     },
     "metadata": {},
     "output_type": "display_data"
    }
   ],
   "source": [
    "fig = plt.figure()\n",
    "fig.suptitle(f'Model Comparison')\n",
    "ax = fig.add_subplot(111)\n",
    "plt.plot(xgb_model.evals_result_['validation_0']['error'])\n",
    "# ax.set_xticklabels(names)\n",
    "plt.ylabel(\"Error\")\n",
    "plt.show()"
   ]
  }
 ],
 "metadata": {
  "kernelspec": {
   "display_name": "Python 3",
   "language": "python",
   "name": "python3"
  },
  "language_info": {
   "codemirror_mode": {
    "name": "ipython",
    "version": 3
   },
   "file_extension": ".py",
   "mimetype": "text/x-python",
   "name": "python",
   "nbconvert_exporter": "python",
   "pygments_lexer": "ipython3",
   "version": "3.6.5"
  }
 },
 "nbformat": 4,
 "nbformat_minor": 2
}
