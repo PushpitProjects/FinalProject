{
 "cells": [
  {
   "cell_type": "code",
   "execution_count": 4,
   "metadata": {
    "ExecuteTime": {
     "end_time": "2019-12-16T10:50:52.832948Z",
     "start_time": "2019-12-16T10:50:52.825808Z"
    }
   },
   "outputs": [],
   "source": [
    "from mpl_toolkits.mplot3d import Axes3D\n",
    "from sklearn import preprocessing\n",
    "from sklearn.preprocessing import StandardScaler\n",
    "from sklearn.model_selection import train_test_split, GridSearchCV\n",
    "from sklearn import svm\n",
    "import os\n",
    "import xgboost as xgb\n",
    "import sklearn\n",
    "import matplotlib.pyplot as plt\n",
    "import numpy as np\n",
    "import pandas as pd\n",
    "import os\n",
    "from glob import glob\n",
    "import seaborn as sns\n",
    "from PIL import Image\n",
    "from sklearn.metrics import roc_auc_score, roc_curve, auc\n",
    "from sklearn.metrics import accuracy_score\n",
    "from sklearn.decomposition import PCA\n",
    "from sklearn.discriminant_analysis import LinearDiscriminantAnalysis\n",
    "from sklearn.ensemble import RandomForestClassifier\n",
    "from sklearn.neighbors import KNeighborsClassifier\n",
    "from sklearn.model_selection import train_test_split, cross_val_score\n",
    "from sklearn.model_selection import KFold, StratifiedKFold\n",
    "from sklearn.metrics import confusion_matrix, accuracy_score, classification_report\n",
    "from sklearn.linear_model import LogisticRegression\n",
    "\n",
    "import cv2\n",
    "%matplotlib inline\n",
    "sns.set_style(\"dark\")\n",
    "import warnings\n",
    "warnings.filterwarnings('ignore')"
   ]
  },
  {
   "cell_type": "markdown",
   "metadata": {},
   "source": [
    "### Load resized images as numpy rgb vectors"
   ]
  },
  {
   "cell_type": "code",
   "execution_count": 68,
   "metadata": {
    "ExecuteTime": {
     "end_time": "2019-12-16T18:33:02.000875Z",
     "start_time": "2019-12-16T18:33:01.996365Z"
    }
   },
   "outputs": [],
   "source": [
    "def load_image_data(folder_benign='../data/resized/benign', folder_malignant='../data/resized/malignant'):\n",
    "    ims_benign = np.array([cv2.imread(os.path.join(folder_benign, filename)) for filename in os.listdir(folder_benign)])\n",
    "    ims_malignant = np.array([cv2.imread(os.path.join(folder_malignant, filename)) for filename in os.listdir(folder_malignant)])\n",
    "    print(f\"Benign images vector shape: {ims_benign.shape}\")\n",
    "    print(f\"Malignant images vector shape: {ims_malignant.shape}\")\n",
    "    return ims_benign, ims_malignant"
   ]
  },
  {
   "cell_type": "markdown",
   "metadata": {},
   "source": [
    "### Loading the new features extracted as the per the research done for non-pixel based features"
   ]
  },
  {
   "cell_type": "code",
   "execution_count": 61,
   "metadata": {
    "ExecuteTime": {
     "end_time": "2019-12-16T18:30:55.214234Z",
     "start_time": "2019-12-16T18:30:55.201439Z"
    }
   },
   "outputs": [],
   "source": [
    "def load_extracted_features(benign_file='../data/benign_features.txt', malignant_file='../data/malignant_features.txt'):\n",
    "    benign_df = pd.read_csv(benign_file, sep='\\t', header=None)\n",
    "    malignant_df = pd.read_csv(malignant_file, sep='\\t', header=None)\n",
    "    X_benign_new = benign_df.reset_index().values[:, 1:]\n",
    "    X_malinant_new = malignant_df.reset_index().values[:, 1:]\n",
    "    return X_benign_new, X_malinant_new"
   ]
  },
  {
   "cell_type": "code",
   "execution_count": 62,
   "metadata": {
    "ExecuteTime": {
     "end_time": "2019-12-16T18:30:57.035863Z",
     "start_time": "2019-12-16T18:30:57.029129Z"
    }
   },
   "outputs": [],
   "source": [
    "def flatten_image_vectors_and_generate_labels(ims_benign, ims_malignant):\n",
    "    X_benign = ims_benign.flatten().reshape(ims_benign.shape[0], ims_benign.shape[1] * ims_benign.shape[2] * ims_benign.shape[3])\n",
    "    X_malinant = ims_malignant.flatten().reshape(ims_malignant.shape[0], ims_malignant.shape[1] * ims_malignant.shape[2] * ims_malignant.shape[3])\n",
    "    return X_benign, X_malinant"
   ]
  },
  {
   "cell_type": "code",
   "execution_count": 63,
   "metadata": {
    "ExecuteTime": {
     "end_time": "2019-12-16T18:30:58.685230Z",
     "start_time": "2019-12-16T18:30:58.662299Z"
    }
   },
   "outputs": [],
   "source": [
    "def get_test_train_data(X_benign, X_malinant, seed, scaled=True):\n",
    "    X_train_benign, X_test_benign, Y_train_benign, Y_test_benign = train_test_split(X_benign, np.zeros(X_benign.shape[0]), test_size=0.1, random_state=seed)\n",
    "    X_train_malinant, X_test_malinant, Y_train_malinant, Y_test_malinant = train_test_split(X_malinant, np.ones(X_malinant.shape[0]), test_size=0.1, random_state=seed)\n",
    "    X_train = np.concatenate((X_train_benign, X_train_malinant), axis=0)\n",
    "    Y_train = np.concatenate((Y_train_benign, Y_train_malinant), axis=0)\n",
    "    X_test = np.concatenate((X_test_benign, X_test_malinant), axis=0)\n",
    "    Y_test = np.concatenate((Y_test_benign, Y_test_malinant), axis=0)\n",
    "    if scaled:\n",
    "        scaler = StandardScaler().fit(X_train)\n",
    "        X_train_scaled = scaler.transform(X_train)\n",
    "        X_test_scaled = scaler.transform(X_test)\n",
    "        return X_train_scaled, X_test_scaled, Y_train, Y_test\n",
    "    return (X_train, X_test, Y_train, Y_test)"
   ]
  },
  {
   "cell_type": "code",
   "execution_count": 64,
   "metadata": {
    "ExecuteTime": {
     "end_time": "2019-12-16T18:31:05.243282Z",
     "start_time": "2019-12-16T18:31:05.230436Z"
    }
   },
   "outputs": [],
   "source": [
    "def runPCA(X_benign, X_malinant):\n",
    "    print(X_benign.shape)\n",
    "    X = np.concatenate((X_benign, X_malinant), axis=0)  \n",
    "    pca = PCA(0.995)\n",
    "    X_PCA = pca.fit_transform(X)\n",
    "    return X_PCA"
   ]
  },
  {
   "cell_type": "markdown",
   "metadata": {},
   "source": [
    "#### Preparing data"
   ]
  },
  {
   "cell_type": "code",
   "execution_count": 70,
   "metadata": {
    "ExecuteTime": {
     "end_time": "2019-12-16T19:13:07.240328Z",
     "start_time": "2019-12-16T19:08:32.427481Z"
    }
   },
   "outputs": [
    {
     "name": "stdout",
     "output_type": "stream",
     "text": [
      "Benign images vector shape: (150, 450, 600, 3)\n",
      "Malignant images vector shape: (150, 450, 600, 3)\n",
      "(150, 810000)\n"
     ]
    }
   ],
   "source": [
    "# Loading images\n",
    "seed=42\n",
    "ims_benign, ims_malignant = load_image_data('../data/resized_600_450/benign', '../data/resized_600_450/malignant/')\n",
    "X_benign,X_malinant = flatten_image_vectors_and_generate_labels(ims_benign=ims_benign, ims_malignant=ims_malignant)\n",
    "X_train_full, X_test_full, Y_train_full, Y_test_full = get_test_train_data(X_benign=X_benign, X_malinant=X_malinant, seed=seed)\n",
    "\n",
    "# Load other features\n",
    "X_benign_new, X_malinant_new = load_extracted_features()\n",
    "X_train_new, X_test_new, Y_train_new, Y_test_new = get_test_train_data(X_benign_new, X_malinant_new, seed)\n",
    "\n",
    "# Combined features\n",
    "X_train_full_all, X_test_full_all, Y_train_full_all, Y_test_full_all = get_test_train_data(\n",
    "    np.concatenate((X_benign_new, X_benign), axis=1), np.concatenate((X_malinant_new, X_malinant), axis=1), seed)\n",
    "\n",
    "X = runPCA(X_benign, X_malinant)\n",
    "Y = np.concatenate((np.zeros(X_benign.shape[0]), np.ones(X_malinant.shape[0])))\n",
    "X_train_pca, X_test_pca, Y_train_pca, Y_test_pca = train_test_split(X, Y, test_size=0.1, random_state=42)\n",
    "\n",
    "X_new = np.concatenate((X_benign_new, X_malinant_new), axis=0)\n",
    "X_train_pca_all, X_test_pca_all, Y_train_pca_all, Y_test_pca_all = \\\n",
    "    train_test_split(np.concatenate((X_new, X), axis=1), Y, test_size=0.1, random_state=42)\n",
    "\n",
    "all_data_set = {\n",
    "    'full' : (X_train_full, X_test_full, Y_train_full, Y_test_full),\n",
    "    'pca': (X_train_pca, X_test_pca, Y_train_pca, Y_test_pca)\n",
    "}"
   ]
  },
  {
   "cell_type": "code",
   "execution_count": 76,
   "metadata": {
    "ExecuteTime": {
     "end_time": "2019-12-16T19:27:13.297614Z",
     "start_time": "2019-12-16T19:24:36.032341Z"
    }
   },
   "outputs": [
    {
     "name": "stdout",
     "output_type": "stream",
     "text": [
      "Benign images vector shape: (150, 450, 600, 3)\n",
      "Malignant images vector shape: (150, 450, 600, 3)\n"
     ]
    }
   ],
   "source": [
    "seed=42\n",
    "ims_benign, ims_malignant = load_image_data('../data/resized_600_450/benign', '../data/resized_600_450/malignant/')\n",
    "X_benign,X_malinant = flatten_image_vectors_and_generate_labels(ims_benign=ims_benign, ims_malignant=ims_malignant)\n",
    "X_train_full, X_test_full, Y_train_full, Y_test_full = get_test_train_data(X_benign=X_benign, X_malinant=X_malinant, seed=seed)\n",
    "scaler = StandardScaler().fit(X_train_full)\n",
    "X_train = scaler.transform(X_train_full)\n",
    "X_test = scaler.transform(X_test_full)\n",
    "pca = PCA(.99)\n",
    "pca.fit(X_train)\n",
    "\n",
    "X_train_p = pca.transform(X_train)\n",
    "X_test_p = pca.transform(X_test)\n",
    "\n",
    "\n"
   ]
  },
  {
   "cell_type": "code",
   "execution_count": 77,
   "metadata": {
    "ExecuteTime": {
     "end_time": "2019-12-16T19:27:33.128736Z",
     "start_time": "2019-12-16T19:27:33.117859Z"
    }
   },
   "outputs": [
    {
     "data": {
      "text/plain": [
       "(270, 174)"
      ]
     },
     "execution_count": 77,
     "metadata": {},
     "output_type": "execute_result"
    }
   ],
   "source": [
    "X_train_p.shape"
   ]
  },
  {
   "cell_type": "code",
   "execution_count": 81,
   "metadata": {
    "ExecuteTime": {
     "end_time": "2019-12-16T19:29:22.883040Z",
     "start_time": "2019-12-16T19:29:22.843223Z"
    }
   },
   "outputs": [
    {
     "data": {
      "text/plain": [
       "0.6666666666666666"
      ]
     },
     "execution_count": 81,
     "metadata": {},
     "output_type": "execute_result"
    }
   ],
   "source": [
    "clf = svm.SVC(random_state=42)\n",
    "clf.fit(X_train_p, Y_train_full)\n",
    "pred = clf.predict(X_test_p)\n",
    "accuracy_score(Y_test_full, pred)"
   ]
  },
  {
   "cell_type": "code",
   "execution_count": 75,
   "metadata": {
    "ExecuteTime": {
     "end_time": "2019-12-16T19:18:55.000535Z",
     "start_time": "2019-12-16T19:18:54.961004Z"
    }
   },
   "outputs": [
    {
     "data": {
      "text/plain": [
       "0.3333333333333333"
      ]
     },
     "execution_count": 75,
     "metadata": {},
     "output_type": "execute_result"
    }
   ],
   "source": [
    "scaler = StandardScaler().fit(X_train_pca)\n",
    "X_train_pca_s = scaler.transform(X_train_pca)\n",
    "X_test_pca_s = scaler.transform(X_test_pca)\n",
    "clf = svm.SVC(random_state=42)\n",
    "clf.fit(X_train_pca_s, Y_train_pca)\n",
    "pred = clf.predict(X_test_pca_s)\n",
    "accuracy_score(Y_test_pca, pred)\n"
   ]
  },
  {
   "cell_type": "code",
   "execution_count": 54,
   "metadata": {
    "ExecuteTime": {
     "end_time": "2019-12-16T10:01:32.906006Z",
     "start_time": "2019-12-16T10:01:32.899987Z"
    }
   },
   "outputs": [],
   "source": [
    "seed = 42\n",
    "num_trees=150\n",
    "models = {\n",
    "     'SVM' : svm.SVC(C=10, random_state=42, gamma='scale'),\n",
    "     'LDA' : LinearDiscriminantAnalysis(),\n",
    "     'XGBoost' : xgb.XGBClassifier(),\n",
    "     'RF': RandomForestClassifier(n_estimators=num_trees, random_state=seed),\n",
    "     'LR':LogisticRegression(solver='lbfgs', max_iter=1000)\n",
    " }"
   ]
  },
  {
   "cell_type": "code",
   "execution_count": 58,
   "metadata": {
    "ExecuteTime": {
     "end_time": "2019-12-16T10:16:14.486115Z",
     "start_time": "2019-12-16T10:02:34.090426Z"
    }
   },
   "outputs": [
    {
     "name": "stdout",
     "output_type": "stream",
     "text": [
      "(270,)\n",
      "Model:SVM --> Mean:[0.674074074074074] , STD:[0.07908946853356527]\n"
     ]
    },
    {
     "name": "stderr",
     "output_type": "stream",
     "text": [
      "/anaconda3/lib/python3.6/site-packages/sklearn/discriminant_analysis.py:388: UserWarning: Variables are collinear.\n",
      "  warnings.warn(\"Variables are collinear.\")\n",
      "/anaconda3/lib/python3.6/site-packages/sklearn/discriminant_analysis.py:388: UserWarning: Variables are collinear.\n",
      "  warnings.warn(\"Variables are collinear.\")\n",
      "/anaconda3/lib/python3.6/site-packages/sklearn/discriminant_analysis.py:388: UserWarning: Variables are collinear.\n",
      "  warnings.warn(\"Variables are collinear.\")\n",
      "/anaconda3/lib/python3.6/site-packages/sklearn/discriminant_analysis.py:388: UserWarning: Variables are collinear.\n",
      "  warnings.warn(\"Variables are collinear.\")\n",
      "/anaconda3/lib/python3.6/site-packages/sklearn/discriminant_analysis.py:388: UserWarning: Variables are collinear.\n",
      "  warnings.warn(\"Variables are collinear.\")\n",
      "/anaconda3/lib/python3.6/site-packages/sklearn/discriminant_analysis.py:388: UserWarning: Variables are collinear.\n",
      "  warnings.warn(\"Variables are collinear.\")\n",
      "/anaconda3/lib/python3.6/site-packages/sklearn/discriminant_analysis.py:388: UserWarning: Variables are collinear.\n",
      "  warnings.warn(\"Variables are collinear.\")\n",
      "/anaconda3/lib/python3.6/site-packages/sklearn/discriminant_analysis.py:388: UserWarning: Variables are collinear.\n",
      "  warnings.warn(\"Variables are collinear.\")\n",
      "/anaconda3/lib/python3.6/site-packages/sklearn/discriminant_analysis.py:388: UserWarning: Variables are collinear.\n",
      "  warnings.warn(\"Variables are collinear.\")\n",
      "/anaconda3/lib/python3.6/site-packages/sklearn/discriminant_analysis.py:388: UserWarning: Variables are collinear.\n",
      "  warnings.warn(\"Variables are collinear.\")\n"
     ]
    },
    {
     "name": "stdout",
     "output_type": "stream",
     "text": [
      "Model:LDA --> Mean:[0.5592592592592592] , STD:[0.1128870418824309]\n",
      "Model:XGBoost --> Mean:[0.5814814814814815] , STD:[0.08453860896676539]\n",
      "Model:RF --> Mean:[0.5444444444444444] , STD:[0.07416660886852144]\n",
      "Model:LR --> Mean:[0.5962962962962963] , STD:[0.08020891788039893]\n"
     ]
    },
    {
     "data": {
      "image/png": "[encoded data removed]",
      "text/plain": [
       "<Figure size 432x288 with 1 Axes>"
      ]
     },
     "metadata": {},
     "output_type": "display_data"
    },
    {
     "name": "stdout",
     "output_type": "stream",
     "text": [
      "(270,)\n",
      "Model:SVM --> Mean:[0.7370370370370372] , STD:[0.07490277191169141]\n",
      "Model:LDA --> Mean:[0.6148148148148149] , STD:[0.09543776834611205]\n",
      "Model:XGBoost --> Mean:[0.6333333333333333] , STD:[0.06296296296296297]\n",
      "Model:RF --> Mean:[0.6666666666666667] , STD:[0.07768954430890011]\n",
      "Model:LR --> Mean:[0.6444444444444445] , STD:[0.09102374612921858]\n"
     ]
    },
    {
     "data": {
      "image/png": "[encoded data removed]",
      "text/plain": [
       "<Figure size 432x288 with 1 Axes>"
      ]
     },
     "metadata": {},
     "output_type": "display_data"
    }
   ],
   "source": [
    "for dataset, data in all_data_set.items():\n",
    "    results = []\n",
    "    names = []\n",
    "    X_train, X_test, Y_train, Y_test = data\n",
    "    print(Y_train.shape)\n",
    "    for name, model in models.items():\n",
    "        cv_results = cross_val_score(model, X_train, Y_train, cv=KFold(n_splits=10), scoring=\"accuracy\")\n",
    "        print(f\"Model:{name} --> Mean:[{cv_results.mean()}] , STD:[{cv_results.std()}]\")\n",
    "        names.append(name)\n",
    "        results.append(cv_results)\n",
    "    fig = plt.figure()\n",
    "    fig.suptitle(f'Model Comparison for dataset: {dataset}')\n",
    "    ax = fig.add_subplot(111)\n",
    "    plt.boxplot(results)\n",
    "    ax.set_xticklabels(names)\n",
    "    plt.ylabel(\"Accuracy\")\n",
    "    plt.show()"
   ]
  },
  {
   "cell_type": "code",
   "execution_count": 41,
   "metadata": {
    "ExecuteTime": {
     "end_time": "2019-12-16T09:47:34.358096Z",
     "start_time": "2019-12-16T09:47:34.025478Z"
    }
   },
   "outputs": [
    {
     "data": {
      "image/png": "[encoded data removed]",
      "text/plain": [
       "<Figure size 432x288 with 1 Axes>"
      ]
     },
     "metadata": {},
     "output_type": "display_data"
    }
   ],
   "source": []
  },
  {
   "cell_type": "code",
   "execution_count": 60,
   "metadata": {
    "ExecuteTime": {
     "end_time": "2019-12-16T09:12:22.720277Z",
     "start_time": "2019-12-16T09:12:22.688357Z"
    }
   },
   "outputs": [
    {
     "data": {
      "text/plain": [
       "0.8333333333333334"
      ]
     },
     "execution_count": 60,
     "metadata": {},
     "output_type": "execute_result"
    }
   ],
   "source": []
  },
  {
   "cell_type": "markdown",
   "metadata": {},
   "source": [
    "### Support Vector Machine models -- GridSearch"
   ]
  },
  {
   "cell_type": "code",
   "execution_count": 83,
   "metadata": {
    "ExecuteTime": {
     "end_time": "2019-12-16T19:30:04.576564Z",
     "start_time": "2019-12-16T19:30:03.328933Z"
    }
   },
   "outputs": [
    {
     "name": "stderr",
     "output_type": "stream",
     "text": [
      "[Parallel(n_jobs=5)]: Using backend LokyBackend with 5 concurrent workers.\n"
     ]
    },
    {
     "name": "stdout",
     "output_type": "stream",
     "text": [
      "Fitting 10 folds for each of 25 candidates, totalling 250 fits\n"
     ]
    },
    {
     "name": "stderr",
     "output_type": "stream",
     "text": [
      "[Parallel(n_jobs=5)]: Done  38 tasks      | elapsed:    0.3s\n",
      "[Parallel(n_jobs=5)]: Done 250 out of 250 | elapsed:    1.2s finished\n"
     ]
    },
    {
     "data": {
      "text/plain": [
       "GridSearchCV(cv=KFold(n_splits=10, random_state=None, shuffle=False),\n",
       "             error_score='raise-deprecating',\n",
       "             estimator=SVC(C=1.0, cache_size=200, class_weight=None, coef0=0.0,\n",
       "                           decision_function_shape='ovr', degree=3,\n",
       "                           gamma='auto_deprecated', kernel='rbf', max_iter=-1,\n",
       "                           probability=False, random_state=None, shrinking=True,\n",
       "                           tol=0.001, verbose=False),\n",
       "             iid='warn', n_jobs=5,\n",
       "             param_grid={'C': [0.1, 1, 10, 100, 1000],\n",
       "                         'gamma': [1, 0.1, 0.01, 0.001, 0.0001],\n",
       "                         'kernel': ['rbf']},\n",
       "             pre_dispatch='2*n_jobs', refit=True, return_train_score=False,\n",
       "             scoring=None, verbose=3)"
      ]
     },
     "execution_count": 83,
     "metadata": {},
     "output_type": "execute_result"
    }
   ],
   "source": [
    "from sklearn.multiclass import OneVsRestClassifier\n",
    "# defining parameter range \n",
    "param_grid = {'C': [0.1, 1, 10, 100, 1000],  \n",
    "              'gamma': [1, 0.1, 0.01, 0.001, 0.0001], \n",
    "              'kernel': ['rbf']}\n",
    "  \n",
    "grid = GridSearchCV(svm.SVC(), param_grid, refit = True, verbose = 3, cv=KFold(n_splits=10), n_jobs=5)   \n",
    "# fitting the model for grid search\n",
    "grid.fit(X_train_p, Y_train_full)\n",
    "# clf = svm.SVC(random_state=42, probability=True)\n",
    "# clf.fit(X_train_full, Y_train_full)\n",
    "# pred = clf.predict(X_test_pca_all)\n",
    "# print(f\"Default SVM Accuracy (on only pixel): {accuracy_score(Y_test_pca_all, pred)}\")\n",
    "\n",
    "# clf = svm.SVC(C=10, random_state=seed)\n",
    "# clf.fit(X_train_new, Y_train_new)\n",
    "# pred = clf.predict(X_test_new)\n",
    "# print(f\"Default SVM Accuracy (on only new features): {accuracy_score(Y_test_new, pred)}\")\n",
    "\n",
    "# clf = svm.SVC(C=10,random_state=seed)\n",
    "# clf.fit(X_train_full_all, Y_train_full_all)\n",
    "# pred = clf.predict(X_test_all)\n",
    "# print(f\"Default SVM Accuracy (on combined features): {accuracy_score(Y_test_all, pred)}\")\n",
    "\n",
    "# clf = svm.SVC(C=10,random_state=seed)\n",
    "# clf.fit(X_tra, Y_train_all)\n",
    "# pred = clf.predict(X_test_all)\n",
    "# print(f\"Default SVM Accuracy (PCA features): {accuracy_score(Y_test_all, pred)}\")\n",
    "\n",
    "# clf = svm.SVC(C=10,random_state=seed)\n",
    "# clf.fit(X_train_all, Y_train_all)\n",
    "# pred = clf.predict(X_test_all)\n",
    "# print(f\"Default SVM Accuracy (PCA + new_features): {accuracy_score(Y_test_all, pred)}\")\n"
   ]
  },
  {
   "cell_type": "code",
   "execution_count": 56,
   "metadata": {
    "ExecuteTime": {
     "end_time": "2019-12-16T11:18:30.873336Z",
     "start_time": "2019-12-16T11:18:30.868505Z"
    }
   },
   "outputs": [
    {
     "data": {
      "text/plain": [
       "{'C': 1000, 'gamma': 0.0001, 'kernel': 'rbf'}"
      ]
     },
     "execution_count": 56,
     "metadata": {},
     "output_type": "execute_result"
    }
   ],
   "source": [
    "Cs = param_grid['C']\n",
    "Gammas = param_grid['gamma']\n",
    "scores = [x[1] for x in grid.grid_scores_]\n",
    "scores = np.array(scores).reshape(len(param_grid['C']), len(param_grid['gamma']))\n",
    "for ind, i in enumerate(Cs):\n",
    "    plt.plot(Gammas, scores[ind], label='C: ' + str(i))\n",
    "plt.legend()\n",
    "plt.xlabel('Gamma')\n",
    "plt.ylabel('Mean score')\n",
    "plt.show()"
   ]
  },
  {
   "cell_type": "code",
   "execution_count": 85,
   "metadata": {
    "ExecuteTime": {
     "end_time": "2019-12-16T19:30:31.352770Z",
     "start_time": "2019-12-16T19:30:31.344456Z"
    }
   },
   "outputs": [
    {
     "data": {
      "text/plain": [
       "0.5"
      ]
     },
     "execution_count": 85,
     "metadata": {},
     "output_type": "execute_result"
    }
   ],
   "source": [
    "pred = grid.best_estimator_.predict(X_test_p)\n",
    "accuracy_score(Y_test_full, pred)"
   ]
  },
  {
   "cell_type": "code",
   "execution_count": 42,
   "metadata": {
    "ExecuteTime": {
     "end_time": "2019-12-16T11:04:04.944200Z",
     "start_time": "2019-12-16T11:04:04.939825Z"
    }
   },
   "outputs": [],
   "source": [
    "fpr, tpr, _ = roc_curve(Y_test_new, clf.decision_function(X_test_new))\n",
    "roc_auc = auc(fpr, tpr)"
   ]
  },
  {
   "cell_type": "code",
   "execution_count": 43,
   "metadata": {
    "ExecuteTime": {
     "end_time": "2019-12-16T11:04:07.664433Z",
     "start_time": "2019-12-16T11:04:07.370788Z"
    }
   },
   "outputs": [
    {
     "data": {
      "image/png": "[encoded data removed]",
      "text/plain": [
       "<Figure size 432x288 with 1 Axes>"
      ]
     },
     "metadata": {},
     "output_type": "display_data"
    }
   ],
   "source": [
    "plt.figure()\n",
    "lw = 2\n",
    "plt.plot(fpr, tpr, color='darkorange',\n",
    "         lw=lw, label='ROC curve (area = %0.2f)' % roc_auc)\n",
    "plt.plot([0, 1], [0, 1], color='navy', lw=lw, linestyle='--')\n",
    "plt.xlim([-0.02, 1.0])\n",
    "plt.ylim([0.0, 1.05])\n",
    "plt.xlabel('False Positive Rate')\n",
    "plt.ylabel('True Positive Rate')\n",
    "plt.title('Receiver operating characteristic example')\n",
    "plt.legend(loc=\"lower right\")\n",
    "plt.show()"
   ]
  },
  {
   "cell_type": "markdown",
   "metadata": {},
   "source": [
    "#### XGBoost"
   ]
  },
  {
   "cell_type": "code",
   "execution_count": 11,
   "metadata": {
    "ExecuteTime": {
     "end_time": "2019-12-16T02:18:56.946595Z",
     "start_time": "2019-12-16T02:16:44.171593Z"
    }
   },
   "outputs": [
    {
     "name": "stdout",
     "output_type": "stream",
     "text": [
      "Default XGBoost Accuracy (on only pixel): 0.7333333333333333\n",
      "Default XGBoost Accuracy (on only new features): 0.7333333333333333\n",
      "Default XGBoost Accuracy (on combined features): 0.8\n"
     ]
    }
   ],
   "source": [
    "\n",
    "clf =  xgb.XGBClassifier()\n",
    "clf.fit(X_train, Y_train)\n",
    "pred = clf.predict(X_test)\n",
    "print(f\"Default XGBoost Accuracy (on only pixel): {accuracy_score(Y_test, pred)}\")\n",
    "\n",
    "clf = xgb.XGBClassifier()\n",
    "clf.fit(X_train_new, Y_train_new)\n",
    "pred = clf.predict(X_test_new)\n",
    "print(f\"Default XGBoost Accuracy (on only new features): {accuracy_score(Y_test_new, pred)}\")\n",
    "\n",
    "clf = xgb.XGBClassifier()\n",
    "clf.fit(X_train_all, Y_train_all)\n",
    "pred = clf.predict(X_test_all)\n",
    "print(f\"Default XGBoost Accuracy (on combined features): {accuracy_score(Y_test_all, pred)}\")"
   ]
  },
  {
   "cell_type": "code",
   "execution_count": null,
   "metadata": {},
   "outputs": [],
   "source": [
    "clf =  xgb.XGBClassifier()\n",
    "clf.fit(X_train, Y_train)\n",
    "pred = clf.predict(X_test)\n",
    "print(f\"Default XGBoost Accuracy (on only pixel): {accuracy_score(Y_test, pred)}\")\n",
    "\n",
    "clf = xgb.XGBClassifier()\n",
    "clf.fit(X_train_new, Y_train_new)\n",
    "pred = clf.predict(X_test_new)\n",
    "print(f\"Default XGBoost Accuracy (on only new features): {accuracy_score(Y_test_new, pred)}\")\n",
    "\n",
    "clf = xgb.XGBClassifier()\n",
    "clf.fit(X_train_all, Y_train_all)\n",
    "pred = clf.predict(X_test_all)\n",
    "print(f\"Default XGBoost Accuracy (on combined features): {accuracy_score(Y_test_all, pred)}\")"
   ]
  },
  {
   "cell_type": "code",
   "execution_count": null,
   "metadata": {},
   "outputs": [],
   "source": [
    "models = {\n",
    "    'SVM' : svm.SVC(random_state=seed)\n",
    "    'LDA' : LinearDiscriminantAnalysis(random_state=seed)\n",
    "}"
   ]
  },
  {
   "cell_type": "markdown",
   "metadata": {},
   "source": [
    "#### SVM Hyperparamtuning"
   ]
  },
  {
   "cell_type": "code",
   "execution_count": 66,
   "metadata": {
    "ExecuteTime": {
     "end_time": "2019-12-16T10:33:45.209694Z",
     "start_time": "2019-12-16T10:33:42.961877Z"
    }
   },
   "outputs": [
    {
     "name": "stdout",
     "output_type": "stream",
     "text": [
      "Fitting 5 folds for each of 25 candidates, totalling 125 fits\n"
     ]
    },
    {
     "name": "stderr",
     "output_type": "stream",
     "text": [
      "[Parallel(n_jobs=5)]: Using backend LokyBackend with 5 concurrent workers.\n",
      "[Parallel(n_jobs=5)]: Done  22 tasks      | elapsed:    1.9s\n",
      "[Parallel(n_jobs=5)]: Done 125 out of 125 | elapsed:    2.1s finished\n"
     ]
    },
    {
     "data": {
      "text/plain": [
       "GridSearchCV(cv=5, error_score='raise-deprecating',\n",
       "             estimator=SVC(C=1.0, cache_size=200, class_weight=None, coef0=0.0,\n",
       "                           decision_function_shape='ovr', degree=3,\n",
       "                           gamma='auto_deprecated', kernel='rbf', max_iter=-1,\n",
       "                           probability=False, random_state=None, shrinking=True,\n",
       "                           tol=0.001, verbose=False),\n",
       "             iid='warn', n_jobs=5,\n",
       "             param_grid={'C': [0.1, 1, 10, 100, 1000],\n",
       "                         'gamma': [1, 0.1, 0.01, 0.001, 0.0001],\n",
       "                         'kernel': ['rbf']},\n",
       "             pre_dispatch='2*n_jobs', refit=True, return_train_score=False,\n",
       "             scoring=None, verbose=3)"
      ]
     },
     "execution_count": 66,
     "metadata": {},
     "output_type": "execute_result"
    }
   ],
   "source": [
    "# defining parameter range \n",
    "param_grid = {'C': [0.1, 1, 10, 100, 1000],  \n",
    "              'gamma': [1, 0.1, 0.01, 0.001, 0.0001], \n",
    "              'kernel': ['rbf']}  \n",
    "  \n",
    "grid = GridSearchCV(svm.SVC(), param_grid, refit = True, verbose = 3, cv=5, n_jobs=5)   \n",
    "# fitting the model for grid search\n",
    "\n",
    "grid.fit(X_train_new, Y_train_new)\n"
   ]
  },
  {
   "cell_type": "code",
   "execution_count": 67,
   "metadata": {
    "ExecuteTime": {
     "end_time": "2019-12-16T10:33:56.130588Z",
     "start_time": "2019-12-16T10:33:56.119072Z"
    }
   },
   "outputs": [
    {
     "name": "stdout",
     "output_type": "stream",
     "text": [
      "{'C': 1000, 'gamma': 0.001, 'kernel': 'rbf'}\n",
      "SVC(C=1000, cache_size=200, class_weight=None, coef0=0.0,\n",
      "    decision_function_shape='ovr', degree=3, gamma=0.001, kernel='rbf',\n",
      "    max_iter=-1, probability=False, random_state=None, shrinking=True,\n",
      "    tol=0.001, verbose=False)\n"
     ]
    },
    {
     "data": {
      "text/plain": [
       "0.725925925925926"
      ]
     },
     "execution_count": 67,
     "metadata": {},
     "output_type": "execute_result"
    }
   ],
   "source": [
    "print(grid.best_params_) \n",
    "  \n",
    "# print how our model looks after hyper-parameter tuning \n",
    "print(grid.best_estimator_) \n",
    "pred = grid.best_estimator_.predict(X_train_new)\n",
    "accuracy_score(pred, Y_train_new)"
   ]
  },
  {
   "cell_type": "markdown",
   "metadata": {},
   "source": [
    "#### Using new feature alongwith "
   ]
  },
  {
   "cell_type": "code",
   "execution_count": 140,
   "metadata": {
    "ExecuteTime": {
     "end_time": "2019-12-16T00:36:04.965591Z",
     "start_time": "2019-12-16T00:36:04.910239Z"
    }
   },
   "outputs": [],
   "source": [
    "benign_df = pd.read_csv('../data/benign_features.txt', sep='\\t', header=None)\n",
    "malignant_df = pd.read_csv('../data/malignant_features.txt', sep='\\t', header=None)\n",
    "\n",
    "X_benign_new = benign_df.reset_index().values[:, 1:]\n",
    "X_malinant_new = malignant_df.reset_index().values[:, 1:]\n",
    "X_benign_all = np.concatenate((X_benign_new, X_benign), axis=1)\n",
    "X_malinant_all = np.concatenate((X_malinant_new, X_malinant), axis=1)"
   ]
  },
  {
   "cell_type": "code",
   "execution_count": 141,
   "metadata": {
    "ExecuteTime": {
     "end_time": "2019-12-16T00:36:16.364258Z",
     "start_time": "2019-12-16T00:36:12.342960Z"
    }
   },
   "outputs": [
    {
     "name": "stdout",
     "output_type": "stream",
     "text": [
      "(30,)\n",
      "Accuracy: 0.7666666666666667\n"
     ]
    }
   ],
   "source": [
    "X_train, X_test, Y_train, Y_test = get_test_train_data(X_benign=X_benign_all, X_malinant=X_malinant_all, seed=42)\n",
    "\n",
    "print(Y_test.shape)\n",
    "clf = svm.SVC()\n",
    "clf.fit(X_train, Y_train)\n",
    "pred = clf.predict(X_test)\n",
    "print(f\"Accuracy: {accuracy_score(Y_test, pred)}\")"
   ]
  },
  {
   "cell_type": "code",
   "execution_count": null,
   "metadata": {},
   "outputs": [],
   "source": []
  },
  {
   "cell_type": "code",
   "execution_count": 57,
   "metadata": {
    "ExecuteTime": {
     "end_time": "2019-12-16T11:19:15.083700Z",
     "start_time": "2019-12-16T11:19:15.061012Z"
    }
   },
   "outputs": [
    {
     "ename": "TypeError",
     "evalue": "list indices must be integers or slices, not str",
     "output_type": "error",
     "traceback": [
      "\u001b[0;31m---------------------------------------------------------------------------\u001b[0m",
      "\u001b[0;31mTypeError\u001b[0m                                 Traceback (most recent call last)",
      "\u001b[0;32m<ipython-input-57-7da2909410e3>\u001b[0m in \u001b[0;36m<module>\u001b[0;34m()\u001b[0m\n\u001b[0;32m----> 1\u001b[0;31m \u001b[0mCs\u001b[0m \u001b[0;34m=\u001b[0m \u001b[0mparam_grid\u001b[0m\u001b[0;34m[\u001b[0m\u001b[0;34m'C'\u001b[0m\u001b[0;34m]\u001b[0m\u001b[0;34m\u001b[0m\u001b[0m\n\u001b[0m\u001b[1;32m      2\u001b[0m \u001b[0mGammas\u001b[0m \u001b[0;34m=\u001b[0m \u001b[0mparam_grid\u001b[0m\u001b[0;34m[\u001b[0m\u001b[0;34m'gamma'\u001b[0m\u001b[0;34m]\u001b[0m\u001b[0;34m\u001b[0m\u001b[0m\n\u001b[1;32m      3\u001b[0m \u001b[0mscores\u001b[0m \u001b[0;34m=\u001b[0m \u001b[0;34m[\u001b[0m\u001b[0mx\u001b[0m\u001b[0;34m[\u001b[0m\u001b[0;36m1\u001b[0m\u001b[0;34m]\u001b[0m \u001b[0;32mfor\u001b[0m \u001b[0mx\u001b[0m \u001b[0;32min\u001b[0m \u001b[0mgrid\u001b[0m\u001b[0;34m.\u001b[0m\u001b[0mgrid_scores_\u001b[0m\u001b[0;34m]\u001b[0m\u001b[0;34m\u001b[0m\u001b[0m\n\u001b[1;32m      4\u001b[0m \u001b[0mscores\u001b[0m \u001b[0;34m=\u001b[0m \u001b[0mnp\u001b[0m\u001b[0;34m.\u001b[0m\u001b[0marray\u001b[0m\u001b[0;34m(\u001b[0m\u001b[0mscores\u001b[0m\u001b[0;34m)\u001b[0m\u001b[0;34m.\u001b[0m\u001b[0mreshape\u001b[0m\u001b[0;34m(\u001b[0m\u001b[0mlen\u001b[0m\u001b[0;34m(\u001b[0m\u001b[0mparam_grid\u001b[0m\u001b[0;34m[\u001b[0m\u001b[0;34m'C'\u001b[0m\u001b[0;34m]\u001b[0m\u001b[0;34m)\u001b[0m\u001b[0;34m,\u001b[0m \u001b[0mlen\u001b[0m\u001b[0;34m(\u001b[0m\u001b[0mparam_grid\u001b[0m\u001b[0;34m[\u001b[0m\u001b[0;34m'gamma'\u001b[0m\u001b[0;34m]\u001b[0m\u001b[0;34m)\u001b[0m\u001b[0;34m)\u001b[0m\u001b[0;34m\u001b[0m\u001b[0m\n\u001b[1;32m      5\u001b[0m \u001b[0;32mfor\u001b[0m \u001b[0mind\u001b[0m\u001b[0;34m,\u001b[0m \u001b[0mi\u001b[0m \u001b[0;32min\u001b[0m \u001b[0menumerate\u001b[0m\u001b[0;34m(\u001b[0m\u001b[0mCs\u001b[0m\u001b[0;34m)\u001b[0m\u001b[0;34m:\u001b[0m\u001b[0;34m\u001b[0m\u001b[0m\n",
      "\u001b[0;31mTypeError\u001b[0m: list indices must be integers or slices, not str"
     ]
    }
   ],
   "source": []
  },
  {
   "cell_type": "markdown",
   "metadata": {},
   "source": [
    "#### Catboost"
   ]
  },
  {
   "cell_type": "code",
   "execution_count": 32,
   "metadata": {
    "ExecuteTime": {
     "end_time": "2019-12-15T01:51:08.357466Z",
     "start_time": "2019-12-15T01:14:46.701808Z"
    }
   },
   "outputs": [
    {
     "name": "stdout",
     "output_type": "stream",
     "text": [
      "Learning rate set to 0.011566\n",
      "0:\tlearn: 0.6893397\ttotal: 8.54s\tremaining: 2h 22m 10s\n",
      "1:\tlearn: 0.6847578\ttotal: 11.4s\tremaining: 1h 35m 3s\n",
      "2:\tlearn: 0.6802358\ttotal: 13.5s\tremaining: 1h 14m 43s\n",
      "3:\tlearn: 0.6753423\ttotal: 15.4s\tremaining: 1h 3m 53s\n",
      "4:\tlearn: 0.6717818\ttotal: 17.5s\tremaining: 57m 56s\n",
      "5:\tlearn: 0.6677444\ttotal: 20.2s\tremaining: 55m 50s\n",
      "6:\tlearn: 0.6642759\ttotal: 22.3s\tremaining: 52m 42s\n",
      "7:\tlearn: 0.6608265\ttotal: 24.3s\tremaining: 50m 7s\n",
      "8:\tlearn: 0.6555456\ttotal: 26.2s\tremaining: 48m 8s\n",
      "9:\tlearn: 0.6519316\ttotal: 28.1s\tremaining: 46m 26s\n",
      "10:\tlearn: 0.6475387\ttotal: 30.1s\tremaining: 45m 9s\n",
      "11:\tlearn: 0.6441030\ttotal: 32.5s\tremaining: 44m 34s\n",
      "12:\tlearn: 0.6410656\ttotal: 35.4s\tremaining: 44m 50s\n",
      "13:\tlearn: 0.6360882\ttotal: 38.2s\tremaining: 44m 51s\n",
      "14:\tlearn: 0.6323012\ttotal: 44.4s\tremaining: 48m 32s\n",
      "15:\tlearn: 0.6289943\ttotal: 51.7s\tremaining: 53m\n",
      "16:\tlearn: 0.6262359\ttotal: 55.1s\tremaining: 53m 3s\n",
      "17:\tlearn: 0.6230002\ttotal: 57.3s\tremaining: 52m 7s\n",
      "18:\tlearn: 0.6195007\ttotal: 59.3s\tremaining: 51m 3s\n",
      "19:\tlearn: 0.6162704\ttotal: 1m 1s\tremaining: 50m 13s\n",
      "20:\tlearn: 0.6137190\ttotal: 1m 3s\tremaining: 49m 14s\n",
      "21:\tlearn: 0.6101763\ttotal: 1m 5s\tremaining: 48m 27s\n",
      "22:\tlearn: 0.6069202\ttotal: 1m 7s\tremaining: 48m\n",
      "23:\tlearn: 0.6036774\ttotal: 1m 9s\tremaining: 47m 23s\n",
      "24:\tlearn: 0.5995850\ttotal: 1m 11s\tremaining: 46m 40s\n",
      "25:\tlearn: 0.5968535\ttotal: 1m 14s\tremaining: 46m 14s\n",
      "26:\tlearn: 0.5936056\ttotal: 1m 16s\tremaining: 45m 50s\n",
      "27:\tlearn: 0.5900093\ttotal: 1m 18s\tremaining: 45m 38s\n",
      "28:\tlearn: 0.5869861\ttotal: 1m 21s\tremaining: 45m 15s\n",
      "29:\tlearn: 0.5848558\ttotal: 1m 24s\tremaining: 45m 28s\n",
      "30:\tlearn: 0.5825159\ttotal: 1m 26s\tremaining: 45m 4s\n",
      "31:\tlearn: 0.5802275\ttotal: 1m 28s\tremaining: 44m 34s\n",
      "32:\tlearn: 0.5769828\ttotal: 1m 32s\tremaining: 45m 18s\n",
      "33:\tlearn: 0.5734366\ttotal: 1m 36s\tremaining: 45m 32s\n",
      "34:\tlearn: 0.5702164\ttotal: 1m 44s\tremaining: 48m 5s\n",
      "35:\tlearn: 0.5676506\ttotal: 1m 51s\tremaining: 49m 51s\n",
      "36:\tlearn: 0.5646766\ttotal: 1m 53s\tremaining: 49m 20s\n",
      "37:\tlearn: 0.5608021\ttotal: 1m 55s\tremaining: 48m 50s\n",
      "38:\tlearn: 0.5580689\ttotal: 1m 57s\tremaining: 48m 24s\n",
      "39:\tlearn: 0.5542085\ttotal: 2m\tremaining: 48m 2s\n",
      "40:\tlearn: 0.5517465\ttotal: 2m 2s\tremaining: 47m 35s\n",
      "41:\tlearn: 0.5493151\ttotal: 2m 4s\tremaining: 47m 13s\n",
      "42:\tlearn: 0.5465568\ttotal: 2m 6s\tremaining: 46m 52s\n",
      "43:\tlearn: 0.5426117\ttotal: 2m 8s\tremaining: 46m 37s\n",
      "44:\tlearn: 0.5395408\ttotal: 2m 11s\tremaining: 46m 33s\n",
      "45:\tlearn: 0.5376199\ttotal: 2m 13s\tremaining: 46m 13s\n",
      "46:\tlearn: 0.5339681\ttotal: 2m 16s\tremaining: 45m 57s\n",
      "47:\tlearn: 0.5305515\ttotal: 2m 18s\tremaining: 45m 39s\n",
      "48:\tlearn: 0.5270009\ttotal: 2m 20s\tremaining: 45m 19s\n",
      "49:\tlearn: 0.5248031\ttotal: 2m 22s\tremaining: 45m 4s\n",
      "50:\tlearn: 0.5216574\ttotal: 2m 25s\tremaining: 45m 3s\n",
      "51:\tlearn: 0.5181958\ttotal: 2m 27s\tremaining: 44m 45s\n",
      "52:\tlearn: 0.5159271\ttotal: 2m 29s\tremaining: 44m 28s\n",
      "53:\tlearn: 0.5135153\ttotal: 2m 31s\tremaining: 44m 9s\n",
      "54:\tlearn: 0.5112431\ttotal: 2m 33s\tremaining: 43m 53s\n",
      "55:\tlearn: 0.5084098\ttotal: 2m 35s\tremaining: 43m 38s\n",
      "56:\tlearn: 0.5053189\ttotal: 2m 37s\tremaining: 43m 22s\n",
      "57:\tlearn: 0.5026102\ttotal: 2m 39s\tremaining: 43m 17s\n",
      "58:\tlearn: 0.5007360\ttotal: 2m 44s\tremaining: 43m 35s\n",
      "59:\tlearn: 0.4989995\ttotal: 2m 46s\tremaining: 43m 23s\n",
      "60:\tlearn: 0.4969127\ttotal: 2m 48s\tremaining: 43m 9s\n",
      "61:\tlearn: 0.4944973\ttotal: 2m 50s\tremaining: 43m 4s\n",
      "62:\tlearn: 0.4924919\ttotal: 2m 53s\tremaining: 42m 57s\n",
      "63:\tlearn: 0.4896997\ttotal: 2m 55s\tremaining: 42m 44s\n",
      "64:\tlearn: 0.4865459\ttotal: 2m 57s\tremaining: 42m 30s\n",
      "65:\tlearn: 0.4843932\ttotal: 2m 59s\tremaining: 42m 24s\n",
      "66:\tlearn: 0.4825336\ttotal: 3m 8s\tremaining: 43m 38s\n",
      "67:\tlearn: 0.4800128\ttotal: 3m 10s\tremaining: 43m 33s\n",
      "68:\tlearn: 0.4770045\ttotal: 3m 12s\tremaining: 43m 21s\n",
      "69:\tlearn: 0.4754202\ttotal: 3m 15s\tremaining: 43m 12s\n",
      "70:\tlearn: 0.4733556\ttotal: 3m 18s\tremaining: 43m 13s\n",
      "71:\tlearn: 0.4714958\ttotal: 3m 20s\tremaining: 43m 8s\n",
      "72:\tlearn: 0.4698258\ttotal: 3m 22s\tremaining: 42m 55s\n",
      "73:\tlearn: 0.4677175\ttotal: 3m 24s\tremaining: 42m 43s\n",
      "74:\tlearn: 0.4659820\ttotal: 3m 26s\tremaining: 42m 32s\n",
      "75:\tlearn: 0.4637301\ttotal: 3m 29s\tremaining: 42m 23s\n",
      "76:\tlearn: 0.4616178\ttotal: 3m 31s\tremaining: 42m 13s\n",
      "77:\tlearn: 0.4599985\ttotal: 3m 33s\tremaining: 42m 8s\n",
      "78:\tlearn: 0.4580485\ttotal: 3m 40s\tremaining: 42m 51s\n",
      "79:\tlearn: 0.4555985\ttotal: 3m 43s\tremaining: 42m 46s\n",
      "80:\tlearn: 0.4536661\ttotal: 3m 46s\tremaining: 42m 44s\n",
      "81:\tlearn: 0.4518353\ttotal: 3m 50s\tremaining: 42m 57s\n",
      "82:\tlearn: 0.4496900\ttotal: 3m 51s\tremaining: 42m 43s\n",
      "83:\tlearn: 0.4473074\ttotal: 3m 53s\tremaining: 42m 29s\n",
      "84:\tlearn: 0.4456491\ttotal: 3m 55s\tremaining: 42m 17s\n",
      "85:\tlearn: 0.4438971\ttotal: 3m 57s\tremaining: 42m 5s\n",
      "86:\tlearn: 0.4416802\ttotal: 3m 59s\tremaining: 41m 54s\n",
      "87:\tlearn: 0.4401932\ttotal: 4m 1s\tremaining: 41m 42s\n",
      "88:\tlearn: 0.4382060\ttotal: 4m 3s\tremaining: 41m 33s\n",
      "89:\tlearn: 0.4367387\ttotal: 4m 5s\tremaining: 41m 27s\n",
      "90:\tlearn: 0.4353644\ttotal: 4m 8s\tremaining: 41m 19s\n",
      "91:\tlearn: 0.4334378\ttotal: 4m 10s\tremaining: 41m 11s\n",
      "92:\tlearn: 0.4313292\ttotal: 4m 12s\tremaining: 41m 2s\n",
      "93:\tlearn: 0.4296835\ttotal: 4m 14s\tremaining: 40m 53s\n",
      "94:\tlearn: 0.4277864\ttotal: 4m 16s\tremaining: 40m 43s\n",
      "95:\tlearn: 0.4257344\ttotal: 4m 18s\tremaining: 40m 34s\n",
      "96:\tlearn: 0.4232404\ttotal: 4m 20s\tremaining: 40m 24s\n",
      "97:\tlearn: 0.4208710\ttotal: 4m 22s\tremaining: 40m 16s\n",
      "98:\tlearn: 0.4186093\ttotal: 4m 24s\tremaining: 40m 7s\n",
      "99:\tlearn: 0.4173955\ttotal: 4m 26s\tremaining: 40m 1s\n",
      "100:\tlearn: 0.4158337\ttotal: 4m 29s\tremaining: 39m 56s\n",
      "101:\tlearn: 0.4145389\ttotal: 4m 31s\tremaining: 39m 49s\n",
      "102:\tlearn: 0.4132521\ttotal: 4m 33s\tremaining: 39m 41s\n",
      "103:\tlearn: 0.4123063\ttotal: 4m 35s\tremaining: 39m 36s\n",
      "104:\tlearn: 0.4108584\ttotal: 4m 38s\tremaining: 39m 32s\n",
      "105:\tlearn: 0.4085111\ttotal: 4m 40s\tremaining: 39m 25s\n",
      "106:\tlearn: 0.4070987\ttotal: 4m 43s\tremaining: 39m 22s\n",
      "107:\tlearn: 0.4045782\ttotal: 4m 45s\tremaining: 39m 19s\n",
      "108:\tlearn: 0.4029348\ttotal: 4m 48s\tremaining: 39m 16s\n",
      "109:\tlearn: 0.4008876\ttotal: 4m 56s\tremaining: 40m 2s\n",
      "110:\tlearn: 0.3994090\ttotal: 4m 58s\tremaining: 39m 53s\n",
      "111:\tlearn: 0.3976446\ttotal: 5m\tremaining: 39m 44s\n",
      "112:\tlearn: 0.3962817\ttotal: 5m 2s\tremaining: 39m 37s\n",
      "113:\tlearn: 0.3952096\ttotal: 5m 5s\tremaining: 39m 33s\n",
      "114:\tlearn: 0.3931361\ttotal: 5m 7s\tremaining: 39m 24s\n",
      "115:\tlearn: 0.3916397\ttotal: 5m 10s\tremaining: 39m 23s\n",
      "116:\tlearn: 0.3901984\ttotal: 5m 12s\tremaining: 39m 19s\n",
      "117:\tlearn: 0.3889441\ttotal: 5m 14s\tremaining: 39m 12s\n",
      "118:\tlearn: 0.3883477\ttotal: 5m 16s\tremaining: 39m 4s\n",
      "119:\tlearn: 0.3869049\ttotal: 5m 18s\tremaining: 38m 58s\n",
      "120:\tlearn: 0.3848312\ttotal: 5m 21s\tremaining: 38m 52s\n",
      "121:\tlearn: 0.3836271\ttotal: 5m 23s\tremaining: 38m 44s\n",
      "122:\tlearn: 0.3820625\ttotal: 5m 24s\tremaining: 38m 37s\n",
      "123:\tlearn: 0.3808101\ttotal: 5m 26s\tremaining: 38m 28s\n",
      "124:\tlearn: 0.3788803\ttotal: 5m 28s\tremaining: 38m 22s\n",
      "125:\tlearn: 0.3776262\ttotal: 5m 30s\tremaining: 38m 15s\n",
      "126:\tlearn: 0.3763766\ttotal: 5m 32s\tremaining: 38m 8s\n",
      "127:\tlearn: 0.3751530\ttotal: 5m 34s\tremaining: 38m 1s\n",
      "128:\tlearn: 0.3727985\ttotal: 5m 36s\tremaining: 37m 54s\n",
      "129:\tlearn: 0.3715096\ttotal: 5m 38s\tremaining: 37m 47s\n",
      "130:\tlearn: 0.3709863\ttotal: 5m 40s\tremaining: 37m 40s\n",
      "131:\tlearn: 0.3693733\ttotal: 5m 42s\tremaining: 37m 33s\n",
      "132:\tlearn: 0.3676005\ttotal: 5m 44s\tremaining: 37m 26s\n",
      "133:\tlearn: 0.3665108\ttotal: 5m 46s\tremaining: 37m 19s\n",
      "134:\tlearn: 0.3651666\ttotal: 5m 48s\tremaining: 37m 13s\n",
      "135:\tlearn: 0.3634702\ttotal: 5m 50s\tremaining: 37m 6s\n",
      "136:\tlearn: 0.3618094\ttotal: 5m 52s\tremaining: 37m\n",
      "137:\tlearn: 0.3606257\ttotal: 5m 54s\tremaining: 36m 53s\n",
      "138:\tlearn: 0.3593174\ttotal: 5m 56s\tremaining: 36m 47s\n",
      "139:\tlearn: 0.3582936\ttotal: 5m 58s\tremaining: 36m 40s\n",
      "140:\tlearn: 0.3571606\ttotal: 6m\tremaining: 36m 33s\n",
      "141:\tlearn: 0.3565326\ttotal: 6m 2s\tremaining: 36m 27s\n",
      "142:\tlearn: 0.3549737\ttotal: 6m 4s\tremaining: 36m 22s\n",
      "143:\tlearn: 0.3533327\ttotal: 6m 6s\tremaining: 36m 16s\n",
      "144:\tlearn: 0.3524912\ttotal: 6m 8s\tremaining: 36m 10s\n",
      "145:\tlearn: 0.3516238\ttotal: 6m 10s\tremaining: 36m 5s\n",
      "146:\tlearn: 0.3504212\ttotal: 6m 12s\tremaining: 35m 59s\n",
      "147:\tlearn: 0.3490970\ttotal: 6m 14s\tremaining: 35m 54s\n",
      "148:\tlearn: 0.3478468\ttotal: 6m 16s\tremaining: 35m 49s\n",
      "149:\tlearn: 0.3468068\ttotal: 6m 18s\tremaining: 35m 44s\n",
      "150:\tlearn: 0.3455110\ttotal: 6m 20s\tremaining: 35m 39s\n",
      "151:\tlearn: 0.3444089\ttotal: 6m 22s\tremaining: 35m 32s\n"
     ]
    },
    {
     "name": "stdout",
     "output_type": "stream",
     "text": [
      "152:\tlearn: 0.3434479\ttotal: 6m 24s\tremaining: 35m 27s\n",
      "153:\tlearn: 0.3419492\ttotal: 6m 26s\tremaining: 35m 21s\n",
      "154:\tlearn: 0.3406387\ttotal: 6m 27s\tremaining: 35m 15s\n",
      "155:\tlearn: 0.3395722\ttotal: 6m 29s\tremaining: 35m 9s\n",
      "156:\tlearn: 0.3386160\ttotal: 6m 31s\tremaining: 35m 3s\n",
      "157:\tlearn: 0.3369305\ttotal: 6m 33s\tremaining: 34m 58s\n",
      "158:\tlearn: 0.3359525\ttotal: 6m 35s\tremaining: 34m 52s\n",
      "159:\tlearn: 0.3345809\ttotal: 6m 37s\tremaining: 34m 47s\n",
      "160:\tlearn: 0.3337251\ttotal: 6m 39s\tremaining: 34m 42s\n",
      "161:\tlearn: 0.3327591\ttotal: 6m 41s\tremaining: 34m 37s\n",
      "162:\tlearn: 0.3315648\ttotal: 6m 43s\tremaining: 34m 32s\n",
      "163:\tlearn: 0.3306837\ttotal: 6m 45s\tremaining: 34m 26s\n",
      "164:\tlearn: 0.3299778\ttotal: 6m 47s\tremaining: 34m 21s\n",
      "165:\tlearn: 0.3294982\ttotal: 6m 49s\tremaining: 34m 16s\n",
      "166:\tlearn: 0.3282914\ttotal: 6m 51s\tremaining: 34m 10s\n",
      "167:\tlearn: 0.3272642\ttotal: 6m 53s\tremaining: 34m 5s\n",
      "168:\tlearn: 0.3266926\ttotal: 6m 54s\tremaining: 34m\n",
      "169:\tlearn: 0.3254520\ttotal: 6m 56s\tremaining: 33m 55s\n",
      "170:\tlearn: 0.3242192\ttotal: 6m 58s\tremaining: 33m 49s\n",
      "171:\tlearn: 0.3232523\ttotal: 7m\tremaining: 33m 44s\n",
      "172:\tlearn: 0.3225305\ttotal: 7m 2s\tremaining: 33m 39s\n",
      "173:\tlearn: 0.3217890\ttotal: 7m 4s\tremaining: 33m 34s\n",
      "174:\tlearn: 0.3207441\ttotal: 7m 6s\tremaining: 33m 29s\n",
      "175:\tlearn: 0.3198182\ttotal: 7m 8s\tremaining: 33m 24s\n",
      "176:\tlearn: 0.3189016\ttotal: 7m 10s\tremaining: 33m 19s\n",
      "177:\tlearn: 0.3180434\ttotal: 7m 12s\tremaining: 33m 15s\n",
      "178:\tlearn: 0.3168548\ttotal: 7m 14s\tremaining: 33m 11s\n",
      "179:\tlearn: 0.3158751\ttotal: 7m 16s\tremaining: 33m 6s\n",
      "180:\tlearn: 0.3152292\ttotal: 7m 18s\tremaining: 33m 2s\n",
      "181:\tlearn: 0.3139434\ttotal: 7m 20s\tremaining: 32m 58s\n",
      "182:\tlearn: 0.3125882\ttotal: 7m 22s\tremaining: 32m 53s\n",
      "183:\tlearn: 0.3113738\ttotal: 7m 24s\tremaining: 32m 49s\n",
      "184:\tlearn: 0.3104206\ttotal: 7m 26s\tremaining: 32m 45s\n",
      "185:\tlearn: 0.3092391\ttotal: 7m 27s\tremaining: 32m 40s\n",
      "186:\tlearn: 0.3081228\ttotal: 7m 29s\tremaining: 32m 35s\n",
      "187:\tlearn: 0.3070963\ttotal: 7m 31s\tremaining: 32m 30s\n",
      "188:\tlearn: 0.3059731\ttotal: 7m 33s\tremaining: 32m 26s\n",
      "189:\tlearn: 0.3050005\ttotal: 7m 35s\tremaining: 32m 21s\n",
      "190:\tlearn: 0.3037654\ttotal: 7m 37s\tremaining: 32m 17s\n",
      "191:\tlearn: 0.3027667\ttotal: 7m 39s\tremaining: 32m 13s\n",
      "192:\tlearn: 0.3015564\ttotal: 7m 41s\tremaining: 32m 9s\n",
      "193:\tlearn: 0.3006224\ttotal: 7m 43s\tremaining: 32m 4s\n",
      "194:\tlearn: 0.2998657\ttotal: 7m 45s\tremaining: 32m\n",
      "195:\tlearn: 0.2990898\ttotal: 7m 46s\tremaining: 31m 55s\n",
      "196:\tlearn: 0.2979709\ttotal: 7m 48s\tremaining: 31m 51s\n",
      "197:\tlearn: 0.2975102\ttotal: 7m 50s\tremaining: 31m 46s\n",
      "198:\tlearn: 0.2965913\ttotal: 7m 52s\tremaining: 31m 42s\n",
      "199:\tlearn: 0.2954625\ttotal: 7m 54s\tremaining: 31m 37s\n",
      "200:\tlearn: 0.2947028\ttotal: 7m 56s\tremaining: 31m 33s\n",
      "201:\tlearn: 0.2932596\ttotal: 7m 58s\tremaining: 31m 29s\n",
      "202:\tlearn: 0.2926576\ttotal: 8m\tremaining: 31m 24s\n",
      "203:\tlearn: 0.2915832\ttotal: 8m 1s\tremaining: 31m 20s\n",
      "204:\tlearn: 0.2904154\ttotal: 8m 4s\tremaining: 31m 17s\n",
      "205:\tlearn: 0.2897548\ttotal: 8m 5s\tremaining: 31m 13s\n",
      "206:\tlearn: 0.2881905\ttotal: 8m 7s\tremaining: 31m 8s\n",
      "207:\tlearn: 0.2870622\ttotal: 8m 9s\tremaining: 31m 4s\n",
      "208:\tlearn: 0.2863396\ttotal: 8m 11s\tremaining: 31m\n",
      "209:\tlearn: 0.2851744\ttotal: 8m 13s\tremaining: 30m 56s\n",
      "210:\tlearn: 0.2841412\ttotal: 8m 15s\tremaining: 30m 53s\n",
      "211:\tlearn: 0.2831284\ttotal: 8m 17s\tremaining: 30m 49s\n",
      "212:\tlearn: 0.2819598\ttotal: 8m 20s\tremaining: 30m 48s\n",
      "213:\tlearn: 0.2807316\ttotal: 8m 22s\tremaining: 30m 44s\n",
      "214:\tlearn: 0.2791571\ttotal: 8m 24s\tremaining: 30m 41s\n",
      "215:\tlearn: 0.2783628\ttotal: 8m 26s\tremaining: 30m 37s\n",
      "216:\tlearn: 0.2771525\ttotal: 8m 28s\tremaining: 30m 33s\n",
      "217:\tlearn: 0.2762894\ttotal: 8m 30s\tremaining: 30m 29s\n",
      "218:\tlearn: 0.2755032\ttotal: 8m 32s\tremaining: 30m 26s\n",
      "219:\tlearn: 0.2748803\ttotal: 8m 33s\tremaining: 30m 22s\n",
      "220:\tlearn: 0.2739132\ttotal: 8m 35s\tremaining: 30m 18s\n",
      "221:\tlearn: 0.2732497\ttotal: 8m 37s\tremaining: 30m 15s\n",
      "222:\tlearn: 0.2721957\ttotal: 8m 39s\tremaining: 30m 11s\n",
      "223:\tlearn: 0.2706368\ttotal: 8m 42s\tremaining: 30m 8s\n",
      "224:\tlearn: 0.2695373\ttotal: 8m 43s\tremaining: 30m 4s\n",
      "225:\tlearn: 0.2688242\ttotal: 8m 45s\tremaining: 30m\n",
      "226:\tlearn: 0.2679715\ttotal: 8m 47s\tremaining: 29m 56s\n",
      "227:\tlearn: 0.2675461\ttotal: 8m 49s\tremaining: 29m 53s\n",
      "228:\tlearn: 0.2666913\ttotal: 8m 51s\tremaining: 29m 49s\n",
      "229:\tlearn: 0.2657883\ttotal: 8m 53s\tremaining: 29m 46s\n",
      "230:\tlearn: 0.2646361\ttotal: 8m 55s\tremaining: 29m 42s\n",
      "231:\tlearn: 0.2637570\ttotal: 8m 57s\tremaining: 29m 39s\n",
      "232:\tlearn: 0.2630659\ttotal: 8m 59s\tremaining: 29m 35s\n",
      "233:\tlearn: 0.2620878\ttotal: 9m 1s\tremaining: 29m 32s\n",
      "234:\tlearn: 0.2611977\ttotal: 9m 3s\tremaining: 29m 28s\n",
      "235:\tlearn: 0.2604260\ttotal: 9m 5s\tremaining: 29m 24s\n",
      "236:\tlearn: 0.2598223\ttotal: 9m 7s\tremaining: 29m 21s\n",
      "237:\tlearn: 0.2592377\ttotal: 9m 8s\tremaining: 29m 17s\n",
      "238:\tlearn: 0.2580585\ttotal: 9m 11s\tremaining: 29m 14s\n",
      "239:\tlearn: 0.2576458\ttotal: 9m 12s\tremaining: 29m 10s\n",
      "240:\tlearn: 0.2569001\ttotal: 9m 14s\tremaining: 29m 7s\n",
      "241:\tlearn: 0.2560569\ttotal: 9m 16s\tremaining: 29m 4s\n",
      "242:\tlearn: 0.2557491\ttotal: 9m 18s\tremaining: 29m\n",
      "243:\tlearn: 0.2551739\ttotal: 9m 20s\tremaining: 28m 57s\n",
      "244:\tlearn: 0.2542603\ttotal: 9m 22s\tremaining: 28m 53s\n",
      "245:\tlearn: 0.2537763\ttotal: 9m 24s\tremaining: 28m 49s\n",
      "246:\tlearn: 0.2526260\ttotal: 9m 26s\tremaining: 28m 46s\n",
      "247:\tlearn: 0.2521398\ttotal: 9m 28s\tremaining: 28m 42s\n",
      "248:\tlearn: 0.2513712\ttotal: 9m 30s\tremaining: 28m 39s\n",
      "249:\tlearn: 0.2499089\ttotal: 9m 32s\tremaining: 28m 36s\n",
      "250:\tlearn: 0.2489599\ttotal: 9m 33s\tremaining: 28m 32s\n",
      "251:\tlearn: 0.2481886\ttotal: 9m 35s\tremaining: 28m 28s\n",
      "252:\tlearn: 0.2474912\ttotal: 9m 37s\tremaining: 28m 24s\n",
      "253:\tlearn: 0.2467456\ttotal: 9m 39s\tremaining: 28m 21s\n",
      "254:\tlearn: 0.2460938\ttotal: 9m 41s\tremaining: 28m 17s\n",
      "255:\tlearn: 0.2453206\ttotal: 9m 43s\tremaining: 28m 14s\n",
      "256:\tlearn: 0.2444658\ttotal: 9m 44s\tremaining: 28m 11s\n",
      "257:\tlearn: 0.2437544\ttotal: 9m 46s\tremaining: 28m 7s\n",
      "258:\tlearn: 0.2430293\ttotal: 9m 48s\tremaining: 28m 4s\n",
      "259:\tlearn: 0.2423064\ttotal: 9m 50s\tremaining: 28m 1s\n",
      "260:\tlearn: 0.2413591\ttotal: 9m 52s\tremaining: 27m 58s\n",
      "261:\tlearn: 0.2404838\ttotal: 9m 54s\tremaining: 27m 54s\n",
      "262:\tlearn: 0.2398937\ttotal: 9m 56s\tremaining: 27m 51s\n",
      "263:\tlearn: 0.2391810\ttotal: 9m 58s\tremaining: 27m 48s\n",
      "264:\tlearn: 0.2386994\ttotal: 10m\tremaining: 27m 45s\n",
      "265:\tlearn: 0.2381093\ttotal: 10m 2s\tremaining: 27m 42s\n",
      "266:\tlearn: 0.2369392\ttotal: 10m 4s\tremaining: 27m 38s\n",
      "267:\tlearn: 0.2361477\ttotal: 10m 6s\tremaining: 27m 35s\n",
      "268:\tlearn: 0.2355663\ttotal: 10m 8s\tremaining: 27m 32s\n",
      "269:\tlearn: 0.2348456\ttotal: 10m 9s\tremaining: 27m 28s\n",
      "270:\tlearn: 0.2341263\ttotal: 10m 11s\tremaining: 27m 25s\n",
      "271:\tlearn: 0.2335183\ttotal: 10m 13s\tremaining: 27m 21s\n",
      "272:\tlearn: 0.2320405\ttotal: 10m 15s\tremaining: 27m 18s\n",
      "273:\tlearn: 0.2314703\ttotal: 10m 17s\tremaining: 27m 15s\n",
      "274:\tlearn: 0.2309192\ttotal: 10m 19s\tremaining: 27m 12s\n",
      "275:\tlearn: 0.2305140\ttotal: 10m 21s\tremaining: 27m 9s\n",
      "276:\tlearn: 0.2299383\ttotal: 10m 23s\tremaining: 27m 7s\n",
      "277:\tlearn: 0.2286205\ttotal: 10m 25s\tremaining: 27m 4s\n",
      "278:\tlearn: 0.2272800\ttotal: 10m 27s\tremaining: 27m 1s\n",
      "279:\tlearn: 0.2265831\ttotal: 10m 29s\tremaining: 26m 57s\n",
      "280:\tlearn: 0.2261120\ttotal: 10m 31s\tremaining: 26m 55s\n",
      "281:\tlearn: 0.2255031\ttotal: 10m 33s\tremaining: 26m 51s\n",
      "282:\tlearn: 0.2249508\ttotal: 10m 34s\tremaining: 26m 48s\n",
      "283:\tlearn: 0.2242667\ttotal: 10m 36s\tremaining: 26m 45s\n",
      "284:\tlearn: 0.2237262\ttotal: 10m 38s\tremaining: 26m 42s\n",
      "285:\tlearn: 0.2232024\ttotal: 10m 40s\tremaining: 26m 39s\n",
      "286:\tlearn: 0.2223866\ttotal: 10m 42s\tremaining: 26m 37s\n",
      "287:\tlearn: 0.2219837\ttotal: 10m 45s\tremaining: 26m 34s\n",
      "288:\tlearn: 0.2212953\ttotal: 10m 46s\tremaining: 26m 31s\n",
      "289:\tlearn: 0.2202973\ttotal: 10m 48s\tremaining: 26m 28s\n",
      "290:\tlearn: 0.2192642\ttotal: 10m 51s\tremaining: 26m 26s\n",
      "291:\tlearn: 0.2183414\ttotal: 10m 53s\tremaining: 26m 23s\n",
      "292:\tlearn: 0.2177560\ttotal: 10m 55s\tremaining: 26m 20s\n",
      "293:\tlearn: 0.2172092\ttotal: 10m 57s\tremaining: 26m 18s\n",
      "294:\tlearn: 0.2163582\ttotal: 10m 59s\tremaining: 26m 16s\n",
      "295:\tlearn: 0.2156953\ttotal: 11m 1s\tremaining: 26m 13s\n",
      "296:\tlearn: 0.2151609\ttotal: 11m 3s\tremaining: 26m 10s\n",
      "297:\tlearn: 0.2149548\ttotal: 11m 5s\tremaining: 26m 7s\n",
      "298:\tlearn: 0.2144976\ttotal: 11m 7s\tremaining: 26m 4s\n",
      "299:\tlearn: 0.2140162\ttotal: 11m 9s\tremaining: 26m 2s\n",
      "300:\tlearn: 0.2129771\ttotal: 11m 11s\tremaining: 25m 59s\n",
      "301:\tlearn: 0.2125330\ttotal: 11m 13s\tremaining: 25m 56s\n"
     ]
    },
    {
     "name": "stdout",
     "output_type": "stream",
     "text": [
      "302:\tlearn: 0.2117803\ttotal: 11m 15s\tremaining: 25m 53s\n",
      "303:\tlearn: 0.2110190\ttotal: 11m 17s\tremaining: 25m 50s\n",
      "304:\tlearn: 0.2104839\ttotal: 11m 19s\tremaining: 25m 47s\n",
      "305:\tlearn: 0.2099814\ttotal: 11m 21s\tremaining: 25m 44s\n",
      "306:\tlearn: 0.2093823\ttotal: 11m 22s\tremaining: 25m 41s\n",
      "307:\tlearn: 0.2089313\ttotal: 11m 24s\tremaining: 25m 38s\n",
      "308:\tlearn: 0.2084889\ttotal: 11m 26s\tremaining: 25m 35s\n",
      "309:\tlearn: 0.2078297\ttotal: 11m 28s\tremaining: 25m 32s\n",
      "310:\tlearn: 0.2075474\ttotal: 11m 30s\tremaining: 25m 29s\n",
      "311:\tlearn: 0.2069337\ttotal: 11m 32s\tremaining: 25m 26s\n",
      "312:\tlearn: 0.2059745\ttotal: 11m 33s\tremaining: 25m 23s\n",
      "313:\tlearn: 0.2053911\ttotal: 11m 35s\tremaining: 25m 19s\n",
      "314:\tlearn: 0.2047483\ttotal: 11m 37s\tremaining: 25m 16s\n",
      "315:\tlearn: 0.2038260\ttotal: 11m 39s\tremaining: 25m 14s\n",
      "316:\tlearn: 0.2032150\ttotal: 11m 41s\tremaining: 25m 11s\n",
      "317:\tlearn: 0.2028435\ttotal: 11m 43s\tremaining: 25m 8s\n",
      "318:\tlearn: 0.2022910\ttotal: 11m 45s\tremaining: 25m 6s\n",
      "319:\tlearn: 0.2018273\ttotal: 11m 47s\tremaining: 25m 3s\n",
      "320:\tlearn: 0.2013153\ttotal: 11m 49s\tremaining: 25m 1s\n",
      "321:\tlearn: 0.2005885\ttotal: 11m 52s\tremaining: 25m\n",
      "322:\tlearn: 0.1998807\ttotal: 11m 55s\tremaining: 24m 59s\n",
      "323:\tlearn: 0.1995681\ttotal: 11m 57s\tremaining: 24m 56s\n",
      "324:\tlearn: 0.1987652\ttotal: 11m 59s\tremaining: 24m 54s\n",
      "325:\tlearn: 0.1981955\ttotal: 12m 1s\tremaining: 24m 51s\n",
      "326:\tlearn: 0.1978657\ttotal: 12m 3s\tremaining: 24m 48s\n",
      "327:\tlearn: 0.1973599\ttotal: 12m 5s\tremaining: 24m 46s\n",
      "328:\tlearn: 0.1965910\ttotal: 12m 7s\tremaining: 24m 43s\n",
      "329:\tlearn: 0.1961397\ttotal: 12m 9s\tremaining: 24m 40s\n",
      "330:\tlearn: 0.1956767\ttotal: 12m 11s\tremaining: 24m 37s\n",
      "331:\tlearn: 0.1951380\ttotal: 12m 13s\tremaining: 24m 34s\n",
      "332:\tlearn: 0.1941695\ttotal: 12m 15s\tremaining: 24m 32s\n",
      "333:\tlearn: 0.1935419\ttotal: 12m 16s\tremaining: 24m 29s\n",
      "334:\tlearn: 0.1931713\ttotal: 12m 18s\tremaining: 24m 26s\n",
      "335:\tlearn: 0.1927176\ttotal: 12m 28s\tremaining: 24m 38s\n",
      "336:\tlearn: 0.1920345\ttotal: 12m 31s\tremaining: 24m 39s\n",
      "337:\tlearn: 0.1916311\ttotal: 12m 33s\tremaining: 24m 36s\n",
      "338:\tlearn: 0.1907122\ttotal: 12m 36s\tremaining: 24m 34s\n",
      "339:\tlearn: 0.1901174\ttotal: 12m 38s\tremaining: 24m 31s\n",
      "340:\tlearn: 0.1896385\ttotal: 12m 39s\tremaining: 24m 28s\n",
      "341:\tlearn: 0.1891789\ttotal: 12m 41s\tremaining: 24m 25s\n",
      "342:\tlearn: 0.1886187\ttotal: 12m 43s\tremaining: 24m 22s\n",
      "343:\tlearn: 0.1883814\ttotal: 12m 45s\tremaining: 24m 20s\n",
      "344:\tlearn: 0.1880363\ttotal: 12m 47s\tremaining: 24m 17s\n",
      "345:\tlearn: 0.1876665\ttotal: 12m 49s\tremaining: 24m 14s\n",
      "346:\tlearn: 0.1870782\ttotal: 12m 51s\tremaining: 24m 11s\n",
      "347:\tlearn: 0.1865336\ttotal: 12m 53s\tremaining: 24m 8s\n",
      "348:\tlearn: 0.1858694\ttotal: 12m 55s\tremaining: 24m 6s\n",
      "349:\tlearn: 0.1854940\ttotal: 12m 57s\tremaining: 24m 3s\n",
      "350:\tlearn: 0.1848659\ttotal: 12m 59s\tremaining: 24m\n",
      "351:\tlearn: 0.1844628\ttotal: 13m 1s\tremaining: 23m 59s\n",
      "352:\tlearn: 0.1839037\ttotal: 13m 3s\tremaining: 23m 56s\n",
      "353:\tlearn: 0.1835554\ttotal: 13m 5s\tremaining: 23m 53s\n",
      "354:\tlearn: 0.1832715\ttotal: 13m 7s\tremaining: 23m 50s\n",
      "355:\tlearn: 0.1825366\ttotal: 13m 9s\tremaining: 23m 48s\n",
      "356:\tlearn: 0.1818561\ttotal: 13m 11s\tremaining: 23m 45s\n",
      "357:\tlearn: 0.1811611\ttotal: 13m 13s\tremaining: 23m 42s\n",
      "358:\tlearn: 0.1808229\ttotal: 13m 16s\tremaining: 23m 41s\n",
      "359:\tlearn: 0.1804341\ttotal: 13m 18s\tremaining: 23m 39s\n",
      "360:\tlearn: 0.1799046\ttotal: 13m 20s\tremaining: 23m 37s\n",
      "361:\tlearn: 0.1795729\ttotal: 13m 23s\tremaining: 23m 35s\n",
      "362:\tlearn: 0.1789363\ttotal: 13m 25s\tremaining: 23m 32s\n",
      "363:\tlearn: 0.1784004\ttotal: 13m 27s\tremaining: 23m 30s\n",
      "364:\tlearn: 0.1778664\ttotal: 13m 29s\tremaining: 23m 28s\n",
      "365:\tlearn: 0.1774110\ttotal: 13m 31s\tremaining: 23m 25s\n",
      "366:\tlearn: 0.1770024\ttotal: 13m 33s\tremaining: 23m 22s\n",
      "367:\tlearn: 0.1765451\ttotal: 13m 35s\tremaining: 23m 20s\n",
      "368:\tlearn: 0.1761418\ttotal: 13m 37s\tremaining: 23m 17s\n",
      "369:\tlearn: 0.1757308\ttotal: 13m 38s\tremaining: 23m 14s\n",
      "370:\tlearn: 0.1748445\ttotal: 13m 40s\tremaining: 23m 11s\n",
      "371:\tlearn: 0.1744084\ttotal: 13m 42s\tremaining: 23m 8s\n",
      "372:\tlearn: 0.1738609\ttotal: 13m 44s\tremaining: 23m 6s\n",
      "373:\tlearn: 0.1732420\ttotal: 13m 46s\tremaining: 23m 3s\n",
      "374:\tlearn: 0.1726478\ttotal: 13m 48s\tremaining: 23m 1s\n",
      "375:\tlearn: 0.1720675\ttotal: 13m 50s\tremaining: 22m 58s\n",
      "376:\tlearn: 0.1714438\ttotal: 13m 52s\tremaining: 22m 55s\n",
      "377:\tlearn: 0.1710525\ttotal: 13m 54s\tremaining: 22m 53s\n",
      "378:\tlearn: 0.1705618\ttotal: 13m 56s\tremaining: 22m 50s\n",
      "379:\tlearn: 0.1698557\ttotal: 13m 58s\tremaining: 22m 47s\n",
      "380:\tlearn: 0.1694734\ttotal: 14m\tremaining: 22m 44s\n",
      "381:\tlearn: 0.1689980\ttotal: 14m 1s\tremaining: 22m 42s\n",
      "382:\tlearn: 0.1685722\ttotal: 14m 3s\tremaining: 22m 39s\n",
      "383:\tlearn: 0.1681762\ttotal: 14m 5s\tremaining: 22m 36s\n",
      "384:\tlearn: 0.1676106\ttotal: 14m 7s\tremaining: 22m 34s\n",
      "385:\tlearn: 0.1669523\ttotal: 14m 9s\tremaining: 22m 31s\n",
      "386:\tlearn: 0.1665029\ttotal: 14m 11s\tremaining: 22m 28s\n",
      "387:\tlearn: 0.1658555\ttotal: 14m 13s\tremaining: 22m 26s\n",
      "388:\tlearn: 0.1654652\ttotal: 14m 15s\tremaining: 22m 23s\n",
      "389:\tlearn: 0.1648703\ttotal: 14m 17s\tremaining: 22m 20s\n",
      "390:\tlearn: 0.1643483\ttotal: 14m 19s\tremaining: 22m 18s\n",
      "391:\tlearn: 0.1637597\ttotal: 14m 21s\tremaining: 22m 15s\n",
      "392:\tlearn: 0.1632111\ttotal: 14m 23s\tremaining: 22m 13s\n",
      "393:\tlearn: 0.1626108\ttotal: 14m 38s\tremaining: 22m 31s\n",
      "394:\tlearn: 0.1620266\ttotal: 14m 46s\tremaining: 22m 38s\n",
      "395:\tlearn: 0.1617440\ttotal: 14m 52s\tremaining: 22m 40s\n",
      "396:\tlearn: 0.1612344\ttotal: 14m 53s\tremaining: 22m 37s\n",
      "397:\tlearn: 0.1605040\ttotal: 14m 55s\tremaining: 22m 34s\n",
      "398:\tlearn: 0.1600280\ttotal: 14m 57s\tremaining: 22m 31s\n",
      "399:\tlearn: 0.1594535\ttotal: 14m 59s\tremaining: 22m 29s\n",
      "400:\tlearn: 0.1589289\ttotal: 15m 1s\tremaining: 22m 27s\n",
      "401:\tlearn: 0.1585228\ttotal: 15m 4s\tremaining: 22m 24s\n",
      "402:\tlearn: 0.1578316\ttotal: 15m 6s\tremaining: 22m 22s\n",
      "403:\tlearn: 0.1573696\ttotal: 15m 8s\tremaining: 22m 20s\n",
      "404:\tlearn: 0.1569066\ttotal: 15m 10s\tremaining: 22m 17s\n",
      "405:\tlearn: 0.1564211\ttotal: 15m 12s\tremaining: 22m 14s\n",
      "406:\tlearn: 0.1559798\ttotal: 15m 14s\tremaining: 22m 12s\n",
      "407:\tlearn: 0.1555701\ttotal: 15m 16s\tremaining: 22m 9s\n",
      "408:\tlearn: 0.1548750\ttotal: 15m 18s\tremaining: 22m 7s\n",
      "409:\tlearn: 0.1543099\ttotal: 15m 20s\tremaining: 22m 4s\n",
      "410:\tlearn: 0.1539543\ttotal: 15m 22s\tremaining: 22m 1s\n",
      "411:\tlearn: 0.1533605\ttotal: 15m 24s\tremaining: 21m 58s\n",
      "412:\tlearn: 0.1529446\ttotal: 15m 25s\tremaining: 21m 56s\n",
      "413:\tlearn: 0.1522678\ttotal: 15m 27s\tremaining: 21m 53s\n",
      "414:\tlearn: 0.1513675\ttotal: 15m 30s\tremaining: 21m 51s\n",
      "415:\tlearn: 0.1509795\ttotal: 15m 31s\tremaining: 21m 48s\n",
      "416:\tlearn: 0.1505292\ttotal: 15m 33s\tremaining: 21m 45s\n",
      "417:\tlearn: 0.1500478\ttotal: 15m 36s\tremaining: 21m 43s\n",
      "418:\tlearn: 0.1494799\ttotal: 15m 41s\tremaining: 21m 45s\n",
      "419:\tlearn: 0.1491902\ttotal: 15m 43s\tremaining: 21m 43s\n",
      "420:\tlearn: 0.1488384\ttotal: 15m 45s\tremaining: 21m 40s\n",
      "421:\tlearn: 0.1482971\ttotal: 15m 47s\tremaining: 21m 38s\n",
      "422:\tlearn: 0.1476868\ttotal: 15m 49s\tremaining: 21m 35s\n",
      "423:\tlearn: 0.1470679\ttotal: 15m 51s\tremaining: 21m 33s\n",
      "424:\tlearn: 0.1465318\ttotal: 15m 53s\tremaining: 21m 30s\n",
      "425:\tlearn: 0.1458870\ttotal: 15m 55s\tremaining: 21m 27s\n",
      "426:\tlearn: 0.1450032\ttotal: 15m 57s\tremaining: 21m 25s\n",
      "427:\tlearn: 0.1446014\ttotal: 15m 59s\tremaining: 21m 22s\n",
      "428:\tlearn: 0.1442365\ttotal: 16m 1s\tremaining: 21m 20s\n",
      "429:\tlearn: 0.1440809\ttotal: 16m 3s\tremaining: 21m 17s\n",
      "430:\tlearn: 0.1436313\ttotal: 16m 6s\tremaining: 21m 16s\n",
      "431:\tlearn: 0.1433719\ttotal: 16m 8s\tremaining: 21m 13s\n",
      "432:\tlearn: 0.1428710\ttotal: 16m 10s\tremaining: 21m 11s\n",
      "433:\tlearn: 0.1424021\ttotal: 16m 12s\tremaining: 21m 8s\n",
      "434:\tlearn: 0.1419993\ttotal: 16m 14s\tremaining: 21m 6s\n",
      "435:\tlearn: 0.1413362\ttotal: 16m 16s\tremaining: 21m 3s\n",
      "436:\tlearn: 0.1408520\ttotal: 16m 18s\tremaining: 21m 1s\n",
      "437:\tlearn: 0.1402627\ttotal: 16m 20s\tremaining: 20m 58s\n",
      "438:\tlearn: 0.1397750\ttotal: 16m 22s\tremaining: 20m 55s\n",
      "439:\tlearn: 0.1391250\ttotal: 16m 24s\tremaining: 20m 53s\n",
      "440:\tlearn: 0.1386544\ttotal: 16m 26s\tremaining: 20m 50s\n",
      "441:\tlearn: 0.1384811\ttotal: 16m 28s\tremaining: 20m 47s\n",
      "442:\tlearn: 0.1380017\ttotal: 16m 30s\tremaining: 20m 45s\n",
      "443:\tlearn: 0.1374447\ttotal: 16m 32s\tremaining: 20m 43s\n",
      "444:\tlearn: 0.1369042\ttotal: 16m 34s\tremaining: 20m 40s\n",
      "445:\tlearn: 0.1365627\ttotal: 16m 37s\tremaining: 20m 38s\n",
      "446:\tlearn: 0.1359133\ttotal: 16m 39s\tremaining: 20m 36s\n",
      "447:\tlearn: 0.1354995\ttotal: 16m 41s\tremaining: 20m 33s\n",
      "448:\tlearn: 0.1351584\ttotal: 16m 44s\tremaining: 20m 32s\n",
      "449:\tlearn: 0.1348889\ttotal: 16m 46s\tremaining: 20m 30s\n"
     ]
    },
    {
     "name": "stdout",
     "output_type": "stream",
     "text": [
      "450:\tlearn: 0.1344519\ttotal: 16m 48s\tremaining: 20m 27s\n",
      "451:\tlearn: 0.1338805\ttotal: 16m 50s\tremaining: 20m 24s\n",
      "452:\tlearn: 0.1335263\ttotal: 16m 52s\tremaining: 20m 22s\n",
      "453:\tlearn: 0.1331175\ttotal: 16m 54s\tremaining: 20m 19s\n",
      "454:\tlearn: 0.1325661\ttotal: 16m 56s\tremaining: 20m 17s\n",
      "455:\tlearn: 0.1322318\ttotal: 16m 57s\tremaining: 20m 14s\n",
      "456:\tlearn: 0.1320252\ttotal: 16m 59s\tremaining: 20m 11s\n",
      "457:\tlearn: 0.1315566\ttotal: 17m 1s\tremaining: 20m 9s\n",
      "458:\tlearn: 0.1310219\ttotal: 17m 3s\tremaining: 20m 6s\n",
      "459:\tlearn: 0.1308216\ttotal: 17m 5s\tremaining: 20m 4s\n",
      "460:\tlearn: 0.1304027\ttotal: 17m 7s\tremaining: 20m 1s\n",
      "461:\tlearn: 0.1300530\ttotal: 17m 9s\tremaining: 19m 59s\n",
      "462:\tlearn: 0.1297540\ttotal: 17m 11s\tremaining: 19m 56s\n",
      "463:\tlearn: 0.1293376\ttotal: 17m 13s\tremaining: 19m 54s\n",
      "464:\tlearn: 0.1288181\ttotal: 17m 15s\tremaining: 19m 51s\n",
      "465:\tlearn: 0.1283754\ttotal: 17m 17s\tremaining: 19m 48s\n",
      "466:\tlearn: 0.1278932\ttotal: 17m 19s\tremaining: 19m 46s\n",
      "467:\tlearn: 0.1274224\ttotal: 17m 21s\tremaining: 19m 43s\n",
      "468:\tlearn: 0.1269509\ttotal: 17m 23s\tremaining: 19m 41s\n",
      "469:\tlearn: 0.1262214\ttotal: 17m 25s\tremaining: 19m 38s\n",
      "470:\tlearn: 0.1258088\ttotal: 17m 27s\tremaining: 19m 36s\n",
      "471:\tlearn: 0.1254619\ttotal: 17m 29s\tremaining: 19m 33s\n",
      "472:\tlearn: 0.1251171\ttotal: 17m 31s\tremaining: 19m 31s\n",
      "473:\tlearn: 0.1244868\ttotal: 17m 33s\tremaining: 19m 28s\n",
      "474:\tlearn: 0.1241377\ttotal: 17m 35s\tremaining: 19m 26s\n",
      "475:\tlearn: 0.1237052\ttotal: 17m 37s\tremaining: 19m 23s\n",
      "476:\tlearn: 0.1231724\ttotal: 17m 40s\tremaining: 19m 23s\n",
      "477:\tlearn: 0.1227587\ttotal: 17m 44s\tremaining: 19m 22s\n",
      "478:\tlearn: 0.1223885\ttotal: 17m 45s\tremaining: 19m 19s\n",
      "479:\tlearn: 0.1220369\ttotal: 17m 47s\tremaining: 19m 16s\n",
      "480:\tlearn: 0.1216515\ttotal: 17m 50s\tremaining: 19m 14s\n",
      "481:\tlearn: 0.1213248\ttotal: 17m 51s\tremaining: 19m 12s\n",
      "482:\tlearn: 0.1210412\ttotal: 17m 54s\tremaining: 19m 9s\n",
      "483:\tlearn: 0.1207631\ttotal: 17m 55s\tremaining: 19m 7s\n",
      "484:\tlearn: 0.1206198\ttotal: 17m 57s\tremaining: 19m 4s\n",
      "485:\tlearn: 0.1201646\ttotal: 17m 59s\tremaining: 19m 2s\n",
      "486:\tlearn: 0.1197097\ttotal: 18m 1s\tremaining: 18m 59s\n",
      "487:\tlearn: 0.1192651\ttotal: 18m 3s\tremaining: 18m 57s\n",
      "488:\tlearn: 0.1190710\ttotal: 18m 5s\tremaining: 18m 54s\n",
      "489:\tlearn: 0.1186419\ttotal: 18m 7s\tremaining: 18m 52s\n",
      "490:\tlearn: 0.1182358\ttotal: 18m 9s\tremaining: 18m 49s\n",
      "491:\tlearn: 0.1178415\ttotal: 18m 11s\tremaining: 18m 46s\n",
      "492:\tlearn: 0.1172967\ttotal: 18m 13s\tremaining: 18m 44s\n",
      "493:\tlearn: 0.1169274\ttotal: 18m 15s\tremaining: 18m 41s\n",
      "494:\tlearn: 0.1164734\ttotal: 18m 17s\tremaining: 18m 39s\n",
      "495:\tlearn: 0.1160130\ttotal: 18m 19s\tremaining: 18m 36s\n",
      "496:\tlearn: 0.1155663\ttotal: 18m 21s\tremaining: 18m 34s\n",
      "497:\tlearn: 0.1151140\ttotal: 18m 22s\tremaining: 18m 31s\n",
      "498:\tlearn: 0.1147987\ttotal: 18m 24s\tremaining: 18m 29s\n",
      "499:\tlearn: 0.1143911\ttotal: 18m 26s\tremaining: 18m 26s\n",
      "500:\tlearn: 0.1138945\ttotal: 18m 28s\tremaining: 18m 24s\n",
      "501:\tlearn: 0.1134541\ttotal: 18m 30s\tremaining: 18m 21s\n",
      "502:\tlearn: 0.1130998\ttotal: 18m 32s\tremaining: 18m 19s\n",
      "503:\tlearn: 0.1128776\ttotal: 18m 34s\tremaining: 18m 17s\n",
      "504:\tlearn: 0.1125208\ttotal: 18m 36s\tremaining: 18m 14s\n",
      "505:\tlearn: 0.1123410\ttotal: 18m 38s\tremaining: 18m 11s\n",
      "506:\tlearn: 0.1120332\ttotal: 18m 40s\tremaining: 18m 9s\n",
      "507:\tlearn: 0.1116804\ttotal: 18m 42s\tremaining: 18m 6s\n",
      "508:\tlearn: 0.1114151\ttotal: 18m 44s\tremaining: 18m 4s\n",
      "509:\tlearn: 0.1109500\ttotal: 18m 46s\tremaining: 18m 1s\n",
      "510:\tlearn: 0.1106180\ttotal: 18m 48s\tremaining: 17m 59s\n",
      "511:\tlearn: 0.1103982\ttotal: 18m 50s\tremaining: 17m 57s\n",
      "512:\tlearn: 0.1100182\ttotal: 18m 52s\tremaining: 17m 54s\n",
      "513:\tlearn: 0.1097003\ttotal: 18m 54s\tremaining: 17m 52s\n",
      "514:\tlearn: 0.1093566\ttotal: 18m 56s\tremaining: 17m 49s\n",
      "515:\tlearn: 0.1088943\ttotal: 18m 57s\tremaining: 17m 47s\n",
      "516:\tlearn: 0.1084827\ttotal: 18m 59s\tremaining: 17m 44s\n",
      "517:\tlearn: 0.1080799\ttotal: 19m 1s\tremaining: 17m 42s\n",
      "518:\tlearn: 0.1076091\ttotal: 19m 3s\tremaining: 17m 39s\n",
      "519:\tlearn: 0.1071429\ttotal: 19m 5s\tremaining: 17m 37s\n",
      "520:\tlearn: 0.1066503\ttotal: 19m 7s\tremaining: 17m 34s\n",
      "521:\tlearn: 0.1061769\ttotal: 19m 9s\tremaining: 17m 32s\n",
      "522:\tlearn: 0.1057216\ttotal: 19m 11s\tremaining: 17m 30s\n",
      "523:\tlearn: 0.1053287\ttotal: 19m 13s\tremaining: 17m 27s\n",
      "524:\tlearn: 0.1050392\ttotal: 19m 15s\tremaining: 17m 25s\n",
      "525:\tlearn: 0.1043814\ttotal: 19m 17s\tremaining: 17m 22s\n",
      "526:\tlearn: 0.1041092\ttotal: 19m 19s\tremaining: 17m 20s\n",
      "527:\tlearn: 0.1037286\ttotal: 19m 21s\tremaining: 17m 17s\n",
      "528:\tlearn: 0.1032446\ttotal: 19m 22s\tremaining: 17m 15s\n",
      "529:\tlearn: 0.1027547\ttotal: 19m 24s\tremaining: 17m 12s\n",
      "530:\tlearn: 0.1024025\ttotal: 19m 26s\tremaining: 17m 10s\n",
      "531:\tlearn: 0.1020173\ttotal: 19m 28s\tremaining: 17m 8s\n",
      "532:\tlearn: 0.1016403\ttotal: 19m 30s\tremaining: 17m 5s\n",
      "533:\tlearn: 0.1012723\ttotal: 19m 32s\tremaining: 17m 2s\n",
      "534:\tlearn: 0.1009148\ttotal: 19m 34s\tremaining: 17m\n",
      "535:\tlearn: 0.1004951\ttotal: 19m 36s\tremaining: 16m 58s\n",
      "536:\tlearn: 0.1000453\ttotal: 19m 38s\tremaining: 16m 55s\n",
      "537:\tlearn: 0.0996664\ttotal: 19m 40s\tremaining: 16m 53s\n",
      "538:\tlearn: 0.0993340\ttotal: 19m 42s\tremaining: 16m 51s\n",
      "539:\tlearn: 0.0989856\ttotal: 19m 44s\tremaining: 16m 48s\n",
      "540:\tlearn: 0.0985209\ttotal: 19m 45s\tremaining: 16m 46s\n",
      "541:\tlearn: 0.0980729\ttotal: 19m 47s\tremaining: 16m 43s\n",
      "542:\tlearn: 0.0978178\ttotal: 19m 49s\tremaining: 16m 41s\n",
      "543:\tlearn: 0.0974390\ttotal: 19m 51s\tremaining: 16m 38s\n",
      "544:\tlearn: 0.0970343\ttotal: 19m 53s\tremaining: 16m 36s\n",
      "545:\tlearn: 0.0966594\ttotal: 19m 57s\tremaining: 16m 35s\n",
      "546:\tlearn: 0.0962327\ttotal: 20m 4s\tremaining: 16m 37s\n",
      "547:\tlearn: 0.0958830\ttotal: 20m 6s\tremaining: 16m 35s\n",
      "548:\tlearn: 0.0955319\ttotal: 20m 8s\tremaining: 16m 33s\n",
      "549:\tlearn: 0.0951218\ttotal: 20m 10s\tremaining: 16m 30s\n",
      "550:\tlearn: 0.0946946\ttotal: 20m 12s\tremaining: 16m 28s\n",
      "551:\tlearn: 0.0943612\ttotal: 20m 14s\tremaining: 16m 25s\n",
      "552:\tlearn: 0.0939978\ttotal: 20m 16s\tremaining: 16m 23s\n",
      "553:\tlearn: 0.0936718\ttotal: 20m 18s\tremaining: 16m 21s\n",
      "554:\tlearn: 0.0932780\ttotal: 20m 20s\tremaining: 16m 18s\n",
      "555:\tlearn: 0.0928845\ttotal: 20m 22s\tremaining: 16m 16s\n",
      "556:\tlearn: 0.0925516\ttotal: 20m 24s\tremaining: 16m 13s\n",
      "557:\tlearn: 0.0922509\ttotal: 20m 26s\tremaining: 16m 11s\n",
      "558:\tlearn: 0.0918786\ttotal: 20m 28s\tremaining: 16m 9s\n",
      "559:\tlearn: 0.0915692\ttotal: 20m 30s\tremaining: 16m 6s\n",
      "560:\tlearn: 0.0912196\ttotal: 20m 32s\tremaining: 16m 4s\n",
      "561:\tlearn: 0.0907951\ttotal: 20m 34s\tremaining: 16m 2s\n",
      "562:\tlearn: 0.0905730\ttotal: 20m 36s\tremaining: 15m 59s\n",
      "563:\tlearn: 0.0902106\ttotal: 20m 38s\tremaining: 15m 57s\n",
      "564:\tlearn: 0.0898818\ttotal: 20m 40s\tremaining: 15m 55s\n",
      "565:\tlearn: 0.0894752\ttotal: 20m 42s\tremaining: 15m 52s\n",
      "566:\tlearn: 0.0890101\ttotal: 20m 44s\tremaining: 15m 50s\n",
      "567:\tlearn: 0.0886077\ttotal: 20m 46s\tremaining: 15m 48s\n",
      "568:\tlearn: 0.0883816\ttotal: 20m 48s\tremaining: 15m 46s\n",
      "569:\tlearn: 0.0881570\ttotal: 20m 50s\tremaining: 15m 43s\n",
      "570:\tlearn: 0.0878247\ttotal: 20m 52s\tremaining: 15m 41s\n",
      "571:\tlearn: 0.0875319\ttotal: 20m 55s\tremaining: 15m 39s\n",
      "572:\tlearn: 0.0871865\ttotal: 20m 57s\tremaining: 15m 36s\n",
      "573:\tlearn: 0.0868973\ttotal: 20m 59s\tremaining: 15m 34s\n",
      "574:\tlearn: 0.0866555\ttotal: 21m\tremaining: 15m 32s\n",
      "575:\tlearn: 0.0862925\ttotal: 21m 2s\tremaining: 15m 29s\n",
      "576:\tlearn: 0.0859873\ttotal: 21m 5s\tremaining: 15m 27s\n",
      "577:\tlearn: 0.0857228\ttotal: 21m 7s\tremaining: 15m 25s\n",
      "578:\tlearn: 0.0853785\ttotal: 21m 9s\tremaining: 15m 22s\n",
      "579:\tlearn: 0.0850303\ttotal: 21m 11s\tremaining: 15m 20s\n",
      "580:\tlearn: 0.0848078\ttotal: 21m 13s\tremaining: 15m 18s\n",
      "581:\tlearn: 0.0844010\ttotal: 21m 15s\tremaining: 15m 15s\n",
      "582:\tlearn: 0.0840420\ttotal: 21m 17s\tremaining: 15m 13s\n",
      "583:\tlearn: 0.0837156\ttotal: 21m 19s\tremaining: 15m 11s\n",
      "584:\tlearn: 0.0834382\ttotal: 21m 21s\tremaining: 15m 8s\n",
      "585:\tlearn: 0.0831725\ttotal: 21m 23s\tremaining: 15m 6s\n",
      "586:\tlearn: 0.0829858\ttotal: 21m 24s\tremaining: 15m 4s\n",
      "587:\tlearn: 0.0826170\ttotal: 21m 26s\tremaining: 15m 1s\n",
      "588:\tlearn: 0.0823921\ttotal: 21m 28s\tremaining: 14m 59s\n",
      "589:\tlearn: 0.0820125\ttotal: 21m 31s\tremaining: 14m 57s\n",
      "590:\tlearn: 0.0817087\ttotal: 21m 33s\tremaining: 14m 55s\n",
      "591:\tlearn: 0.0813478\ttotal: 21m 35s\tremaining: 14m 52s\n",
      "592:\tlearn: 0.0809920\ttotal: 21m 38s\tremaining: 14m 50s\n",
      "593:\tlearn: 0.0807684\ttotal: 21m 40s\tremaining: 14m 48s\n",
      "594:\tlearn: 0.0804989\ttotal: 21m 42s\tremaining: 14m 46s\n",
      "595:\tlearn: 0.0801025\ttotal: 21m 47s\tremaining: 14m 46s\n",
      "596:\tlearn: 0.0798731\ttotal: 21m 49s\tremaining: 14m 44s\n",
      "597:\tlearn: 0.0795672\ttotal: 21m 51s\tremaining: 14m 41s\n"
     ]
    },
    {
     "name": "stdout",
     "output_type": "stream",
     "text": [
      "598:\tlearn: 0.0791862\ttotal: 21m 53s\tremaining: 14m 39s\n",
      "599:\tlearn: 0.0787762\ttotal: 21m 55s\tremaining: 14m 37s\n",
      "600:\tlearn: 0.0784884\ttotal: 21m 57s\tremaining: 14m 34s\n",
      "601:\tlearn: 0.0781571\ttotal: 21m 59s\tremaining: 14m 32s\n",
      "602:\tlearn: 0.0778243\ttotal: 22m 1s\tremaining: 14m 30s\n",
      "603:\tlearn: 0.0775315\ttotal: 22m 3s\tremaining: 14m 27s\n",
      "604:\tlearn: 0.0771713\ttotal: 22m 5s\tremaining: 14m 25s\n",
      "605:\tlearn: 0.0768502\ttotal: 22m 7s\tremaining: 14m 23s\n",
      "606:\tlearn: 0.0764983\ttotal: 22m 9s\tremaining: 14m 20s\n",
      "607:\tlearn: 0.0762237\ttotal: 22m 12s\tremaining: 14m 18s\n",
      "608:\tlearn: 0.0759118\ttotal: 22m 14s\tremaining: 14m 16s\n",
      "609:\tlearn: 0.0756032\ttotal: 22m 16s\tremaining: 14m 14s\n",
      "610:\tlearn: 0.0752317\ttotal: 22m 18s\tremaining: 14m 12s\n",
      "611:\tlearn: 0.0748757\ttotal: 22m 20s\tremaining: 14m 9s\n",
      "612:\tlearn: 0.0745919\ttotal: 22m 22s\tremaining: 14m 7s\n",
      "613:\tlearn: 0.0743346\ttotal: 22m 24s\tremaining: 14m 5s\n",
      "614:\tlearn: 0.0740096\ttotal: 22m 26s\tremaining: 14m 2s\n",
      "615:\tlearn: 0.0737102\ttotal: 22m 27s\tremaining: 14m\n",
      "616:\tlearn: 0.0734176\ttotal: 22m 29s\tremaining: 13m 57s\n",
      "617:\tlearn: 0.0731686\ttotal: 22m 31s\tremaining: 13m 55s\n",
      "618:\tlearn: 0.0729124\ttotal: 22m 33s\tremaining: 13m 53s\n",
      "619:\tlearn: 0.0725854\ttotal: 22m 35s\tremaining: 13m 50s\n",
      "620:\tlearn: 0.0722270\ttotal: 22m 37s\tremaining: 13m 48s\n",
      "621:\tlearn: 0.0718800\ttotal: 22m 39s\tremaining: 13m 46s\n",
      "622:\tlearn: 0.0716193\ttotal: 22m 41s\tremaining: 13m 43s\n",
      "623:\tlearn: 0.0713631\ttotal: 22m 42s\tremaining: 13m 41s\n",
      "624:\tlearn: 0.0709871\ttotal: 22m 45s\tremaining: 13m 39s\n",
      "625:\tlearn: 0.0706218\ttotal: 22m 46s\tremaining: 13m 36s\n",
      "626:\tlearn: 0.0703444\ttotal: 22m 48s\tremaining: 13m 34s\n",
      "627:\tlearn: 0.0700868\ttotal: 22m 50s\tremaining: 13m 31s\n",
      "628:\tlearn: 0.0697037\ttotal: 22m 52s\tremaining: 13m 29s\n",
      "629:\tlearn: 0.0694134\ttotal: 22m 54s\tremaining: 13m 27s\n",
      "630:\tlearn: 0.0691378\ttotal: 22m 56s\tremaining: 13m 24s\n",
      "631:\tlearn: 0.0688381\ttotal: 22m 58s\tremaining: 13m 22s\n",
      "632:\tlearn: 0.0685359\ttotal: 23m\tremaining: 13m 20s\n",
      "633:\tlearn: 0.0682037\ttotal: 23m 2s\tremaining: 13m 17s\n",
      "634:\tlearn: 0.0679176\ttotal: 23m 4s\tremaining: 13m 15s\n",
      "635:\tlearn: 0.0676421\ttotal: 23m 6s\tremaining: 13m 13s\n",
      "636:\tlearn: 0.0673149\ttotal: 23m 8s\tremaining: 13m 11s\n",
      "637:\tlearn: 0.0670932\ttotal: 23m 10s\tremaining: 13m 8s\n",
      "638:\tlearn: 0.0668051\ttotal: 23m 12s\tremaining: 13m 6s\n",
      "639:\tlearn: 0.0665673\ttotal: 23m 20s\tremaining: 13m 7s\n",
      "640:\tlearn: 0.0662940\ttotal: 23m 23s\tremaining: 13m 6s\n",
      "641:\tlearn: 0.0659511\ttotal: 23m 25s\tremaining: 13m 3s\n",
      "642:\tlearn: 0.0657068\ttotal: 23m 27s\tremaining: 13m 1s\n",
      "643:\tlearn: 0.0654881\ttotal: 23m 29s\tremaining: 12m 59s\n",
      "644:\tlearn: 0.0651759\ttotal: 23m 32s\tremaining: 12m 57s\n",
      "645:\tlearn: 0.0647988\ttotal: 23m 35s\tremaining: 12m 55s\n",
      "646:\tlearn: 0.0645266\ttotal: 23m 37s\tremaining: 12m 53s\n",
      "647:\tlearn: 0.0642538\ttotal: 23m 39s\tremaining: 12m 51s\n",
      "648:\tlearn: 0.0640016\ttotal: 23m 42s\tremaining: 12m 49s\n",
      "649:\tlearn: 0.0637831\ttotal: 23m 43s\tremaining: 12m 46s\n",
      "650:\tlearn: 0.0635481\ttotal: 23m 45s\tremaining: 12m 44s\n",
      "651:\tlearn: 0.0633110\ttotal: 23m 47s\tremaining: 12m 42s\n",
      "652:\tlearn: 0.0630740\ttotal: 23m 49s\tremaining: 12m 39s\n",
      "653:\tlearn: 0.0627449\ttotal: 23m 51s\tremaining: 12m 37s\n",
      "654:\tlearn: 0.0625512\ttotal: 23m 53s\tremaining: 12m 35s\n",
      "655:\tlearn: 0.0623610\ttotal: 23m 55s\tremaining: 12m 32s\n",
      "656:\tlearn: 0.0620516\ttotal: 23m 57s\tremaining: 12m 30s\n",
      "657:\tlearn: 0.0617138\ttotal: 23m 59s\tremaining: 12m 28s\n",
      "658:\tlearn: 0.0614664\ttotal: 24m 1s\tremaining: 12m 26s\n",
      "659:\tlearn: 0.0613117\ttotal: 24m 3s\tremaining: 12m 23s\n",
      "660:\tlearn: 0.0609800\ttotal: 24m 5s\tremaining: 12m 21s\n",
      "661:\tlearn: 0.0607197\ttotal: 24m 7s\tremaining: 12m 19s\n",
      "662:\tlearn: 0.0605143\ttotal: 24m 9s\tremaining: 12m 16s\n",
      "663:\tlearn: 0.0602372\ttotal: 24m 11s\tremaining: 12m 14s\n",
      "664:\tlearn: 0.0599630\ttotal: 24m 13s\tremaining: 12m 12s\n",
      "665:\tlearn: 0.0596921\ttotal: 24m 15s\tremaining: 12m 10s\n",
      "666:\tlearn: 0.0594451\ttotal: 24m 17s\tremaining: 12m 7s\n",
      "667:\tlearn: 0.0591910\ttotal: 24m 19s\tremaining: 12m 5s\n",
      "668:\tlearn: 0.0589269\ttotal: 24m 21s\tremaining: 12m 3s\n",
      "669:\tlearn: 0.0587584\ttotal: 24m 23s\tremaining: 12m\n",
      "670:\tlearn: 0.0585241\ttotal: 24m 25s\tremaining: 11m 58s\n",
      "671:\tlearn: 0.0582867\ttotal: 24m 27s\tremaining: 11m 56s\n",
      "672:\tlearn: 0.0580387\ttotal: 24m 29s\tremaining: 11m 53s\n",
      "673:\tlearn: 0.0577597\ttotal: 24m 31s\tremaining: 11m 51s\n",
      "674:\tlearn: 0.0574434\ttotal: 24m 33s\tremaining: 11m 49s\n",
      "675:\tlearn: 0.0571731\ttotal: 24m 34s\tremaining: 11m 46s\n",
      "676:\tlearn: 0.0568196\ttotal: 24m 36s\tremaining: 11m 44s\n",
      "677:\tlearn: 0.0566271\ttotal: 24m 39s\tremaining: 11m 42s\n",
      "678:\tlearn: 0.0563905\ttotal: 24m 45s\tremaining: 11m 42s\n",
      "679:\tlearn: 0.0561002\ttotal: 24m 49s\tremaining: 11m 40s\n",
      "680:\tlearn: 0.0558451\ttotal: 24m 52s\tremaining: 11m 38s\n",
      "681:\tlearn: 0.0556411\ttotal: 24m 54s\tremaining: 11m 36s\n",
      "682:\tlearn: 0.0553316\ttotal: 24m 56s\tremaining: 11m 34s\n",
      "683:\tlearn: 0.0551073\ttotal: 24m 58s\tremaining: 11m 32s\n",
      "684:\tlearn: 0.0548702\ttotal: 25m\tremaining: 11m 29s\n",
      "685:\tlearn: 0.0546860\ttotal: 25m 2s\tremaining: 11m 27s\n",
      "686:\tlearn: 0.0544613\ttotal: 25m 4s\tremaining: 11m 25s\n",
      "687:\tlearn: 0.0542676\ttotal: 25m 6s\tremaining: 11m 23s\n",
      "688:\tlearn: 0.0540469\ttotal: 25m 8s\tremaining: 11m 20s\n",
      "689:\tlearn: 0.0537828\ttotal: 25m 10s\tremaining: 11m 18s\n",
      "690:\tlearn: 0.0535290\ttotal: 25m 12s\tremaining: 11m 16s\n",
      "691:\tlearn: 0.0533133\ttotal: 25m 13s\tremaining: 11m 13s\n",
      "692:\tlearn: 0.0530647\ttotal: 25m 15s\tremaining: 11m 11s\n",
      "693:\tlearn: 0.0528675\ttotal: 25m 17s\tremaining: 11m 9s\n",
      "694:\tlearn: 0.0526150\ttotal: 25m 19s\tremaining: 11m 7s\n",
      "695:\tlearn: 0.0524438\ttotal: 25m 21s\tremaining: 11m 4s\n",
      "696:\tlearn: 0.0522300\ttotal: 25m 23s\tremaining: 11m 2s\n",
      "697:\tlearn: 0.0520449\ttotal: 25m 25s\tremaining: 11m\n",
      "698:\tlearn: 0.0517876\ttotal: 25m 27s\tremaining: 10m 57s\n",
      "699:\tlearn: 0.0515868\ttotal: 25m 29s\tremaining: 10m 55s\n",
      "700:\tlearn: 0.0514047\ttotal: 25m 31s\tremaining: 10m 53s\n",
      "701:\tlearn: 0.0511969\ttotal: 25m 34s\tremaining: 10m 51s\n",
      "702:\tlearn: 0.0509773\ttotal: 25m 37s\tremaining: 10m 49s\n",
      "703:\tlearn: 0.0508187\ttotal: 25m 39s\tremaining: 10m 47s\n",
      "704:\tlearn: 0.0506414\ttotal: 25m 41s\tremaining: 10m 45s\n",
      "705:\tlearn: 0.0504287\ttotal: 25m 43s\tremaining: 10m 42s\n",
      "706:\tlearn: 0.0502394\ttotal: 25m 45s\tremaining: 10m 40s\n",
      "707:\tlearn: 0.0500204\ttotal: 25m 47s\tremaining: 10m 38s\n",
      "708:\tlearn: 0.0498042\ttotal: 25m 49s\tremaining: 10m 36s\n",
      "709:\tlearn: 0.0495749\ttotal: 25m 51s\tremaining: 10m 33s\n",
      "710:\tlearn: 0.0493762\ttotal: 25m 53s\tremaining: 10m 31s\n",
      "711:\tlearn: 0.0492016\ttotal: 25m 55s\tremaining: 10m 29s\n",
      "712:\tlearn: 0.0490120\ttotal: 25m 57s\tremaining: 10m 26s\n",
      "713:\tlearn: 0.0488362\ttotal: 25m 59s\tremaining: 10m 24s\n",
      "714:\tlearn: 0.0485967\ttotal: 26m 1s\tremaining: 10m 22s\n",
      "715:\tlearn: 0.0484407\ttotal: 26m 3s\tremaining: 10m 20s\n",
      "716:\tlearn: 0.0482964\ttotal: 26m 6s\tremaining: 10m 18s\n",
      "717:\tlearn: 0.0481092\ttotal: 26m 8s\tremaining: 10m 16s\n",
      "718:\tlearn: 0.0479133\ttotal: 26m 10s\tremaining: 10m 13s\n",
      "719:\tlearn: 0.0477396\ttotal: 26m 12s\tremaining: 10m 11s\n",
      "720:\tlearn: 0.0475131\ttotal: 26m 14s\tremaining: 10m 9s\n",
      "721:\tlearn: 0.0473474\ttotal: 26m 16s\tremaining: 10m 6s\n",
      "722:\tlearn: 0.0471832\ttotal: 26m 18s\tremaining: 10m 4s\n",
      "723:\tlearn: 0.0470317\ttotal: 26m 20s\tremaining: 10m 2s\n",
      "724:\tlearn: 0.0468647\ttotal: 26m 22s\tremaining: 10m\n",
      "725:\tlearn: 0.0466917\ttotal: 26m 23s\tremaining: 9m 57s\n",
      "726:\tlearn: 0.0465136\ttotal: 26m 25s\tremaining: 9m 55s\n",
      "727:\tlearn: 0.0463030\ttotal: 26m 27s\tremaining: 9m 53s\n",
      "728:\tlearn: 0.0461152\ttotal: 26m 29s\tremaining: 9m 50s\n",
      "729:\tlearn: 0.0459476\ttotal: 26m 31s\tremaining: 9m 48s\n",
      "730:\tlearn: 0.0457430\ttotal: 26m 33s\tremaining: 9m 46s\n",
      "731:\tlearn: 0.0455704\ttotal: 26m 35s\tremaining: 9m 44s\n",
      "732:\tlearn: 0.0453666\ttotal: 26m 37s\tremaining: 9m 41s\n",
      "733:\tlearn: 0.0452299\ttotal: 26m 39s\tremaining: 9m 39s\n",
      "734:\tlearn: 0.0450786\ttotal: 26m 40s\tremaining: 9m 37s\n",
      "735:\tlearn: 0.0448651\ttotal: 26m 43s\tremaining: 9m 35s\n",
      "736:\tlearn: 0.0446721\ttotal: 26m 45s\tremaining: 9m 32s\n",
      "737:\tlearn: 0.0445327\ttotal: 26m 47s\tremaining: 9m 30s\n",
      "738:\tlearn: 0.0443471\ttotal: 26m 49s\tremaining: 9m 28s\n",
      "739:\tlearn: 0.0441935\ttotal: 26m 51s\tremaining: 9m 26s\n",
      "740:\tlearn: 0.0440205\ttotal: 26m 53s\tremaining: 9m 24s\n",
      "741:\tlearn: 0.0438706\ttotal: 26m 55s\tremaining: 9m 21s\n",
      "742:\tlearn: 0.0436590\ttotal: 26m 57s\tremaining: 9m 19s\n",
      "743:\tlearn: 0.0434715\ttotal: 26m 59s\tremaining: 9m 17s\n",
      "744:\tlearn: 0.0433126\ttotal: 27m 1s\tremaining: 9m 15s\n",
      "745:\tlearn: 0.0431729\ttotal: 27m 3s\tremaining: 9m 12s\n"
     ]
    },
    {
     "name": "stdout",
     "output_type": "stream",
     "text": [
      "746:\tlearn: 0.0430138\ttotal: 27m 5s\tremaining: 9m 10s\n",
      "747:\tlearn: 0.0428641\ttotal: 27m 7s\tremaining: 9m 8s\n",
      "748:\tlearn: 0.0426734\ttotal: 27m 9s\tremaining: 9m 5s\n",
      "749:\tlearn: 0.0424741\ttotal: 27m 11s\tremaining: 9m 3s\n",
      "750:\tlearn: 0.0423469\ttotal: 27m 13s\tremaining: 9m 1s\n",
      "751:\tlearn: 0.0421979\ttotal: 27m 15s\tremaining: 8m 59s\n",
      "752:\tlearn: 0.0420567\ttotal: 27m 17s\tremaining: 8m 57s\n",
      "753:\tlearn: 0.0419051\ttotal: 27m 19s\tremaining: 8m 54s\n",
      "754:\tlearn: 0.0417550\ttotal: 27m 21s\tremaining: 8m 52s\n",
      "755:\tlearn: 0.0415770\ttotal: 27m 23s\tremaining: 8m 50s\n",
      "756:\tlearn: 0.0414450\ttotal: 27m 24s\tremaining: 8m 48s\n",
      "757:\tlearn: 0.0412619\ttotal: 27m 26s\tremaining: 8m 45s\n",
      "758:\tlearn: 0.0411258\ttotal: 27m 28s\tremaining: 8m 43s\n",
      "759:\tlearn: 0.0409552\ttotal: 27m 30s\tremaining: 8m 41s\n",
      "760:\tlearn: 0.0407639\ttotal: 27m 32s\tremaining: 8m 38s\n",
      "761:\tlearn: 0.0406112\ttotal: 27m 34s\tremaining: 8m 36s\n",
      "762:\tlearn: 0.0404311\ttotal: 27m 36s\tremaining: 8m 34s\n",
      "763:\tlearn: 0.0403222\ttotal: 27m 38s\tremaining: 8m 32s\n",
      "764:\tlearn: 0.0401549\ttotal: 27m 40s\tremaining: 8m 29s\n",
      "765:\tlearn: 0.0400183\ttotal: 27m 42s\tremaining: 8m 27s\n",
      "766:\tlearn: 0.0399043\ttotal: 27m 44s\tremaining: 8m 25s\n",
      "767:\tlearn: 0.0397634\ttotal: 27m 46s\tremaining: 8m 23s\n",
      "768:\tlearn: 0.0396213\ttotal: 27m 49s\tremaining: 8m 21s\n",
      "769:\tlearn: 0.0394733\ttotal: 27m 51s\tremaining: 8m 19s\n",
      "770:\tlearn: 0.0393578\ttotal: 27m 53s\tremaining: 8m 17s\n",
      "771:\tlearn: 0.0392222\ttotal: 27m 55s\tremaining: 8m 14s\n",
      "772:\tlearn: 0.0390697\ttotal: 27m 57s\tremaining: 8m 12s\n",
      "773:\tlearn: 0.0389294\ttotal: 27m 59s\tremaining: 8m 10s\n",
      "774:\tlearn: 0.0387762\ttotal: 28m 1s\tremaining: 8m 8s\n",
      "775:\tlearn: 0.0386321\ttotal: 28m 4s\tremaining: 8m 6s\n",
      "776:\tlearn: 0.0384641\ttotal: 28m 5s\tremaining: 8m 3s\n",
      "777:\tlearn: 0.0383045\ttotal: 28m 7s\tremaining: 8m 1s\n",
      "778:\tlearn: 0.0381583\ttotal: 28m 9s\tremaining: 7m 59s\n",
      "779:\tlearn: 0.0380235\ttotal: 28m 11s\tremaining: 7m 57s\n",
      "780:\tlearn: 0.0378866\ttotal: 28m 13s\tremaining: 7m 54s\n",
      "781:\tlearn: 0.0377254\ttotal: 28m 15s\tremaining: 7m 52s\n",
      "782:\tlearn: 0.0375775\ttotal: 28m 17s\tremaining: 7m 50s\n",
      "783:\tlearn: 0.0374469\ttotal: 28m 19s\tremaining: 7m 48s\n",
      "784:\tlearn: 0.0373075\ttotal: 28m 21s\tremaining: 7m 45s\n",
      "785:\tlearn: 0.0371680\ttotal: 28m 23s\tremaining: 7m 43s\n",
      "786:\tlearn: 0.0370362\ttotal: 28m 25s\tremaining: 7m 41s\n",
      "787:\tlearn: 0.0369145\ttotal: 28m 27s\tremaining: 7m 39s\n",
      "788:\tlearn: 0.0368344\ttotal: 28m 29s\tremaining: 7m 37s\n",
      "789:\tlearn: 0.0366961\ttotal: 28m 30s\tremaining: 7m 34s\n",
      "790:\tlearn: 0.0365975\ttotal: 28m 32s\tremaining: 7m 32s\n",
      "791:\tlearn: 0.0364786\ttotal: 28m 34s\tremaining: 7m 30s\n",
      "792:\tlearn: 0.0362885\ttotal: 28m 36s\tremaining: 7m 28s\n",
      "793:\tlearn: 0.0361605\ttotal: 28m 38s\tremaining: 7m 25s\n",
      "794:\tlearn: 0.0360035\ttotal: 28m 40s\tremaining: 7m 23s\n",
      "795:\tlearn: 0.0358757\ttotal: 28m 42s\tremaining: 7m 21s\n",
      "796:\tlearn: 0.0357605\ttotal: 28m 44s\tremaining: 7m 19s\n",
      "797:\tlearn: 0.0355867\ttotal: 28m 46s\tremaining: 7m 17s\n",
      "798:\tlearn: 0.0354553\ttotal: 28m 48s\tremaining: 7m 14s\n",
      "799:\tlearn: 0.0353456\ttotal: 28m 50s\tremaining: 7m 12s\n",
      "800:\tlearn: 0.0352345\ttotal: 28m 52s\tremaining: 7m 10s\n",
      "801:\tlearn: 0.0351124\ttotal: 28m 54s\tremaining: 7m 8s\n",
      "802:\tlearn: 0.0349627\ttotal: 28m 56s\tremaining: 7m 6s\n",
      "803:\tlearn: 0.0348438\ttotal: 28m 58s\tremaining: 7m 3s\n",
      "804:\tlearn: 0.0347264\ttotal: 29m\tremaining: 7m 1s\n",
      "805:\tlearn: 0.0346122\ttotal: 29m 2s\tremaining: 6m 59s\n",
      "806:\tlearn: 0.0344725\ttotal: 29m 4s\tremaining: 6m 57s\n",
      "807:\tlearn: 0.0343357\ttotal: 29m 6s\tremaining: 6m 55s\n",
      "808:\tlearn: 0.0342437\ttotal: 29m 8s\tremaining: 6m 52s\n",
      "809:\tlearn: 0.0340967\ttotal: 29m 10s\tremaining: 6m 50s\n",
      "810:\tlearn: 0.0339701\ttotal: 29m 12s\tremaining: 6m 48s\n",
      "811:\tlearn: 0.0338696\ttotal: 29m 14s\tremaining: 6m 46s\n",
      "812:\tlearn: 0.0337279\ttotal: 29m 16s\tremaining: 6m 44s\n",
      "813:\tlearn: 0.0336143\ttotal: 29m 18s\tremaining: 6m 41s\n",
      "814:\tlearn: 0.0334589\ttotal: 29m 20s\tremaining: 6m 39s\n",
      "815:\tlearn: 0.0333278\ttotal: 29m 22s\tremaining: 6m 37s\n",
      "816:\tlearn: 0.0332199\ttotal: 29m 24s\tremaining: 6m 35s\n",
      "817:\tlearn: 0.0331032\ttotal: 29m 26s\tremaining: 6m 32s\n",
      "818:\tlearn: 0.0329956\ttotal: 29m 27s\tremaining: 6m 30s\n",
      "819:\tlearn: 0.0328916\ttotal: 29m 29s\tremaining: 6m 28s\n",
      "820:\tlearn: 0.0327713\ttotal: 29m 31s\tremaining: 6m 26s\n",
      "821:\tlearn: 0.0326832\ttotal: 29m 33s\tremaining: 6m 24s\n",
      "822:\tlearn: 0.0325566\ttotal: 29m 35s\tremaining: 6m 21s\n",
      "823:\tlearn: 0.0324586\ttotal: 29m 37s\tremaining: 6m 19s\n",
      "824:\tlearn: 0.0323583\ttotal: 29m 38s\tremaining: 6m 17s\n",
      "825:\tlearn: 0.0322000\ttotal: 29m 40s\tremaining: 6m 15s\n",
      "826:\tlearn: 0.0320761\ttotal: 29m 42s\tremaining: 6m 12s\n",
      "827:\tlearn: 0.0319893\ttotal: 29m 44s\tremaining: 6m 10s\n",
      "828:\tlearn: 0.0318633\ttotal: 29m 46s\tremaining: 6m 8s\n",
      "829:\tlearn: 0.0317452\ttotal: 29m 52s\tremaining: 6m 7s\n",
      "830:\tlearn: 0.0316329\ttotal: 29m 54s\tremaining: 6m 4s\n",
      "831:\tlearn: 0.0315104\ttotal: 29m 56s\tremaining: 6m 2s\n",
      "832:\tlearn: 0.0313986\ttotal: 29m 58s\tremaining: 6m\n",
      "833:\tlearn: 0.0312531\ttotal: 30m\tremaining: 5m 58s\n",
      "834:\tlearn: 0.0311591\ttotal: 30m 2s\tremaining: 5m 56s\n",
      "835:\tlearn: 0.0310557\ttotal: 30m 4s\tremaining: 5m 54s\n",
      "836:\tlearn: 0.0309460\ttotal: 30m 6s\tremaining: 5m 51s\n",
      "837:\tlearn: 0.0308427\ttotal: 30m 8s\tremaining: 5m 49s\n",
      "838:\tlearn: 0.0307355\ttotal: 30m 10s\tremaining: 5m 47s\n",
      "839:\tlearn: 0.0306031\ttotal: 30m 12s\tremaining: 5m 45s\n",
      "840:\tlearn: 0.0305035\ttotal: 30m 14s\tremaining: 5m 43s\n",
      "841:\tlearn: 0.0303868\ttotal: 30m 16s\tremaining: 5m 40s\n",
      "842:\tlearn: 0.0302866\ttotal: 30m 18s\tremaining: 5m 38s\n",
      "843:\tlearn: 0.0301841\ttotal: 30m 20s\tremaining: 5m 36s\n",
      "844:\tlearn: 0.0300981\ttotal: 30m 22s\tremaining: 5m 34s\n",
      "845:\tlearn: 0.0299871\ttotal: 30m 24s\tremaining: 5m 32s\n",
      "846:\tlearn: 0.0298985\ttotal: 30m 26s\tremaining: 5m 29s\n",
      "847:\tlearn: 0.0297573\ttotal: 30m 28s\tremaining: 5m 27s\n",
      "848:\tlearn: 0.0296014\ttotal: 30m 30s\tremaining: 5m 25s\n",
      "849:\tlearn: 0.0295147\ttotal: 30m 32s\tremaining: 5m 23s\n",
      "850:\tlearn: 0.0293928\ttotal: 30m 34s\tremaining: 5m 21s\n",
      "851:\tlearn: 0.0293204\ttotal: 30m 35s\tremaining: 5m 18s\n",
      "852:\tlearn: 0.0292221\ttotal: 30m 37s\tremaining: 5m 16s\n",
      "853:\tlearn: 0.0291489\ttotal: 30m 39s\tremaining: 5m 14s\n",
      "854:\tlearn: 0.0290602\ttotal: 30m 41s\tremaining: 5m 12s\n",
      "855:\tlearn: 0.0289553\ttotal: 30m 43s\tremaining: 5m 10s\n",
      "856:\tlearn: 0.0288529\ttotal: 30m 45s\tremaining: 5m 7s\n",
      "857:\tlearn: 0.0287695\ttotal: 30m 47s\tremaining: 5m 5s\n",
      "858:\tlearn: 0.0286721\ttotal: 30m 49s\tremaining: 5m 3s\n",
      "859:\tlearn: 0.0285593\ttotal: 30m 51s\tremaining: 5m 1s\n",
      "860:\tlearn: 0.0284605\ttotal: 30m 53s\tremaining: 4m 59s\n",
      "861:\tlearn: 0.0283651\ttotal: 30m 55s\tremaining: 4m 57s\n",
      "862:\tlearn: 0.0282877\ttotal: 30m 57s\tremaining: 4m 54s\n",
      "863:\tlearn: 0.0281984\ttotal: 30m 58s\tremaining: 4m 52s\n",
      "864:\tlearn: 0.0281052\ttotal: 31m\tremaining: 4m 50s\n",
      "865:\tlearn: 0.0280024\ttotal: 31m 2s\tremaining: 4m 48s\n",
      "866:\tlearn: 0.0279356\ttotal: 31m 4s\tremaining: 4m 46s\n",
      "867:\tlearn: 0.0278313\ttotal: 31m 6s\tremaining: 4m 43s\n",
      "868:\tlearn: 0.0277203\ttotal: 31m 8s\tremaining: 4m 41s\n",
      "869:\tlearn: 0.0276325\ttotal: 31m 10s\tremaining: 4m 39s\n",
      "870:\tlearn: 0.0275365\ttotal: 31m 12s\tremaining: 4m 37s\n",
      "871:\tlearn: 0.0274454\ttotal: 31m 14s\tremaining: 4m 35s\n",
      "872:\tlearn: 0.0273738\ttotal: 31m 16s\tremaining: 4m 32s\n",
      "873:\tlearn: 0.0272790\ttotal: 31m 18s\tremaining: 4m 30s\n",
      "874:\tlearn: 0.0272116\ttotal: 31m 20s\tremaining: 4m 28s\n",
      "875:\tlearn: 0.0271141\ttotal: 31m 22s\tremaining: 4m 26s\n",
      "876:\tlearn: 0.0269906\ttotal: 31m 24s\tremaining: 4m 24s\n",
      "877:\tlearn: 0.0269174\ttotal: 31m 25s\tremaining: 4m 22s\n",
      "878:\tlearn: 0.0268050\ttotal: 31m 27s\tremaining: 4m 19s\n",
      "879:\tlearn: 0.0267142\ttotal: 31m 29s\tremaining: 4m 17s\n",
      "880:\tlearn: 0.0266435\ttotal: 31m 31s\tremaining: 4m 15s\n",
      "881:\tlearn: 0.0265828\ttotal: 31m 33s\tremaining: 4m 13s\n",
      "882:\tlearn: 0.0265120\ttotal: 31m 35s\tremaining: 4m 11s\n",
      "883:\tlearn: 0.0264140\ttotal: 31m 36s\tremaining: 4m 8s\n",
      "884:\tlearn: 0.0263525\ttotal: 31m 38s\tremaining: 4m 6s\n",
      "885:\tlearn: 0.0262850\ttotal: 31m 40s\tremaining: 4m 4s\n",
      "886:\tlearn: 0.0262221\ttotal: 31m 42s\tremaining: 4m 2s\n",
      "887:\tlearn: 0.0261368\ttotal: 31m 44s\tremaining: 4m\n",
      "888:\tlearn: 0.0260304\ttotal: 31m 47s\tremaining: 3m 58s\n",
      "889:\tlearn: 0.0259610\ttotal: 31m 50s\tremaining: 3m 56s\n",
      "890:\tlearn: 0.0258673\ttotal: 31m 52s\tremaining: 3m 53s\n",
      "891:\tlearn: 0.0258041\ttotal: 31m 55s\tremaining: 3m 51s\n",
      "892:\tlearn: 0.0257274\ttotal: 32m 1s\tremaining: 3m 50s\n",
      "893:\tlearn: 0.0256573\ttotal: 32m 4s\tremaining: 3m 48s\n",
      "894:\tlearn: 0.0255907\ttotal: 32m 5s\tremaining: 3m 45s\n",
      "895:\tlearn: 0.0255275\ttotal: 32m 7s\tremaining: 3m 43s\n",
      "896:\tlearn: 0.0254589\ttotal: 32m 9s\tremaining: 3m 41s\n"
     ]
    },
    {
     "name": "stdout",
     "output_type": "stream",
     "text": [
      "897:\tlearn: 0.0253791\ttotal: 32m 11s\tremaining: 3m 39s\n",
      "898:\tlearn: 0.0253121\ttotal: 32m 13s\tremaining: 3m 37s\n",
      "899:\tlearn: 0.0252362\ttotal: 32m 15s\tremaining: 3m 35s\n",
      "900:\tlearn: 0.0251840\ttotal: 32m 17s\tremaining: 3m 32s\n",
      "901:\tlearn: 0.0251147\ttotal: 32m 19s\tremaining: 3m 30s\n",
      "902:\tlearn: 0.0250448\ttotal: 32m 21s\tremaining: 3m 28s\n",
      "903:\tlearn: 0.0249581\ttotal: 32m 23s\tremaining: 3m 26s\n",
      "904:\tlearn: 0.0248961\ttotal: 32m 25s\tremaining: 3m 24s\n",
      "905:\tlearn: 0.0248275\ttotal: 32m 27s\tremaining: 3m 22s\n",
      "906:\tlearn: 0.0247563\ttotal: 32m 29s\tremaining: 3m 19s\n",
      "907:\tlearn: 0.0246910\ttotal: 32m 31s\tremaining: 3m 17s\n",
      "908:\tlearn: 0.0246169\ttotal: 32m 32s\tremaining: 3m 15s\n",
      "909:\tlearn: 0.0245334\ttotal: 32m 35s\tremaining: 3m 13s\n",
      "910:\tlearn: 0.0244574\ttotal: 32m 38s\tremaining: 3m 11s\n",
      "911:\tlearn: 0.0243797\ttotal: 32m 40s\tremaining: 3m 9s\n",
      "912:\tlearn: 0.0243211\ttotal: 32m 41s\tremaining: 3m 6s\n",
      "913:\tlearn: 0.0242599\ttotal: 32m 44s\tremaining: 3m 4s\n",
      "914:\tlearn: 0.0242067\ttotal: 32m 48s\tremaining: 3m 2s\n",
      "915:\tlearn: 0.0241078\ttotal: 32m 53s\tremaining: 3m\n",
      "916:\tlearn: 0.0240474\ttotal: 32m 57s\tremaining: 2m 58s\n",
      "917:\tlearn: 0.0239673\ttotal: 32m 59s\tremaining: 2m 56s\n",
      "918:\tlearn: 0.0239030\ttotal: 33m 1s\tremaining: 2m 54s\n",
      "919:\tlearn: 0.0238399\ttotal: 33m 3s\tremaining: 2m 52s\n",
      "920:\tlearn: 0.0237713\ttotal: 33m 5s\tremaining: 2m 50s\n",
      "921:\tlearn: 0.0237063\ttotal: 33m 8s\tremaining: 2m 48s\n",
      "922:\tlearn: 0.0236153\ttotal: 33m 10s\tremaining: 2m 46s\n",
      "923:\tlearn: 0.0235281\ttotal: 33m 12s\tremaining: 2m 43s\n",
      "924:\tlearn: 0.0234514\ttotal: 33m 14s\tremaining: 2m 41s\n",
      "925:\tlearn: 0.0233777\ttotal: 33m 19s\tremaining: 2m 39s\n",
      "926:\tlearn: 0.0233152\ttotal: 33m 23s\tremaining: 2m 37s\n",
      "927:\tlearn: 0.0232588\ttotal: 33m 25s\tremaining: 2m 35s\n",
      "928:\tlearn: 0.0231862\ttotal: 33m 27s\tremaining: 2m 33s\n",
      "929:\tlearn: 0.0231251\ttotal: 33m 29s\tremaining: 2m 31s\n",
      "930:\tlearn: 0.0230568\ttotal: 33m 31s\tremaining: 2m 29s\n",
      "931:\tlearn: 0.0230128\ttotal: 33m 33s\tremaining: 2m 26s\n",
      "932:\tlearn: 0.0229656\ttotal: 33m 35s\tremaining: 2m 24s\n",
      "933:\tlearn: 0.0228768\ttotal: 33m 37s\tremaining: 2m 22s\n",
      "934:\tlearn: 0.0228089\ttotal: 33m 39s\tremaining: 2m 20s\n",
      "935:\tlearn: 0.0227550\ttotal: 33m 41s\tremaining: 2m 18s\n",
      "936:\tlearn: 0.0226968\ttotal: 33m 43s\tremaining: 2m 16s\n",
      "937:\tlearn: 0.0226007\ttotal: 33m 45s\tremaining: 2m 13s\n",
      "938:\tlearn: 0.0225320\ttotal: 33m 47s\tremaining: 2m 11s\n",
      "939:\tlearn: 0.0224696\ttotal: 33m 49s\tremaining: 2m 9s\n",
      "940:\tlearn: 0.0224203\ttotal: 33m 51s\tremaining: 2m 7s\n",
      "941:\tlearn: 0.0223635\ttotal: 33m 53s\tremaining: 2m 5s\n",
      "942:\tlearn: 0.0223123\ttotal: 33m 55s\tremaining: 2m 3s\n",
      "943:\tlearn: 0.0222549\ttotal: 33m 57s\tremaining: 2m\n",
      "944:\tlearn: 0.0221768\ttotal: 33m 59s\tremaining: 1m 58s\n",
      "945:\tlearn: 0.0221111\ttotal: 34m 1s\tremaining: 1m 56s\n",
      "946:\tlearn: 0.0220599\ttotal: 34m 3s\tremaining: 1m 54s\n",
      "947:\tlearn: 0.0220057\ttotal: 34m 5s\tremaining: 1m 52s\n",
      "948:\tlearn: 0.0219523\ttotal: 34m 7s\tremaining: 1m 50s\n",
      "949:\tlearn: 0.0218941\ttotal: 34m 9s\tremaining: 1m 47s\n",
      "950:\tlearn: 0.0218259\ttotal: 34m 11s\tremaining: 1m 45s\n",
      "951:\tlearn: 0.0217814\ttotal: 34m 13s\tremaining: 1m 43s\n",
      "952:\tlearn: 0.0217262\ttotal: 34m 14s\tremaining: 1m 41s\n",
      "953:\tlearn: 0.0216708\ttotal: 34m 16s\tremaining: 1m 39s\n",
      "954:\tlearn: 0.0216153\ttotal: 34m 18s\tremaining: 1m 37s\n",
      "955:\tlearn: 0.0215618\ttotal: 34m 20s\tremaining: 1m 34s\n",
      "956:\tlearn: 0.0214862\ttotal: 34m 22s\tremaining: 1m 32s\n",
      "957:\tlearn: 0.0214433\ttotal: 34m 24s\tremaining: 1m 30s\n",
      "958:\tlearn: 0.0213770\ttotal: 34m 26s\tremaining: 1m 28s\n",
      "959:\tlearn: 0.0213225\ttotal: 34m 27s\tremaining: 1m 26s\n",
      "960:\tlearn: 0.0212792\ttotal: 34m 29s\tremaining: 1m 23s\n",
      "961:\tlearn: 0.0212168\ttotal: 34m 31s\tremaining: 1m 21s\n",
      "962:\tlearn: 0.0211683\ttotal: 34m 33s\tremaining: 1m 19s\n",
      "963:\tlearn: 0.0211112\ttotal: 34m 35s\tremaining: 1m 17s\n",
      "964:\tlearn: 0.0210624\ttotal: 34m 37s\tremaining: 1m 15s\n",
      "965:\tlearn: 0.0209840\ttotal: 34m 39s\tremaining: 1m 13s\n",
      "966:\tlearn: 0.0209400\ttotal: 34m 40s\tremaining: 1m 11s\n",
      "967:\tlearn: 0.0208760\ttotal: 34m 42s\tremaining: 1m 8s\n",
      "968:\tlearn: 0.0208089\ttotal: 34m 44s\tremaining: 1m 6s\n",
      "969:\tlearn: 0.0207670\ttotal: 34m 46s\tremaining: 1m 4s\n",
      "970:\tlearn: 0.0207129\ttotal: 34m 48s\tremaining: 1m 2s\n",
      "971:\tlearn: 0.0206522\ttotal: 34m 50s\tremaining: 1m\n",
      "972:\tlearn: 0.0205909\ttotal: 34m 52s\tremaining: 58.1s\n",
      "973:\tlearn: 0.0205282\ttotal: 34m 54s\tremaining: 55.9s\n",
      "974:\tlearn: 0.0204451\ttotal: 34m 56s\tremaining: 53.8s\n",
      "975:\tlearn: 0.0203951\ttotal: 34m 58s\tremaining: 51.6s\n",
      "976:\tlearn: 0.0203473\ttotal: 35m\tremaining: 49.4s\n",
      "977:\tlearn: 0.0203004\ttotal: 35m 2s\tremaining: 47.3s\n",
      "978:\tlearn: 0.0202364\ttotal: 35m 4s\tremaining: 45.1s\n",
      "979:\tlearn: 0.0201841\ttotal: 35m 6s\tremaining: 43s\n",
      "980:\tlearn: 0.0201224\ttotal: 35m 7s\tremaining: 40.8s\n",
      "981:\tlearn: 0.0200848\ttotal: 35m 9s\tremaining: 38.7s\n",
      "982:\tlearn: 0.0200324\ttotal: 35m 11s\tremaining: 36.5s\n",
      "983:\tlearn: 0.0199810\ttotal: 35m 13s\tremaining: 34.4s\n",
      "984:\tlearn: 0.0199317\ttotal: 35m 15s\tremaining: 32.2s\n",
      "985:\tlearn: 0.0198846\ttotal: 35m 17s\tremaining: 30.1s\n",
      "986:\tlearn: 0.0198346\ttotal: 35m 19s\tremaining: 27.9s\n",
      "987:\tlearn: 0.0197898\ttotal: 35m 21s\tremaining: 25.8s\n",
      "988:\tlearn: 0.0197335\ttotal: 35m 23s\tremaining: 23.6s\n",
      "989:\tlearn: 0.0196920\ttotal: 35m 24s\tremaining: 21.5s\n",
      "990:\tlearn: 0.0196394\ttotal: 35m 26s\tremaining: 19.3s\n",
      "991:\tlearn: 0.0196101\ttotal: 35m 28s\tremaining: 17.2s\n",
      "992:\tlearn: 0.0195552\ttotal: 35m 30s\tremaining: 15s\n",
      "993:\tlearn: 0.0195074\ttotal: 35m 32s\tremaining: 12.9s\n",
      "994:\tlearn: 0.0194503\ttotal: 35m 34s\tremaining: 10.7s\n",
      "995:\tlearn: 0.0193980\ttotal: 35m 36s\tremaining: 8.58s\n",
      "996:\tlearn: 0.0193485\ttotal: 35m 38s\tremaining: 6.43s\n",
      "997:\tlearn: 0.0192933\ttotal: 35m 42s\tremaining: 4.29s\n",
      "998:\tlearn: 0.0192316\ttotal: 35m 48s\tremaining: 2.15s\n",
      "999:\tlearn: 0.0191727\ttotal: 35m 50s\tremaining: 0us\n"
     ]
    },
    {
     "data": {
      "text/plain": [
       "0.6666666666666666"
      ]
     },
     "execution_count": 32,
     "metadata": {},
     "output_type": "execute_result"
    }
   ],
   "source": [
    "from catboost import CatBoostClassifier\n",
    "model = CatBoostClassifier()\n",
    "model.fit(X_train_scaled, Y_train, None)\n",
    "predictions = model.predict(X_test_scaled)\n",
    "accuracy_score(Y_test, predictions)"
   ]
  },
  {
   "cell_type": "markdown",
   "metadata": {},
   "source": [
    "#### XGBoost"
   ]
  },
  {
   "cell_type": "code",
   "execution_count": 63,
   "metadata": {
    "ExecuteTime": {
     "end_time": "2019-12-15T23:18:46.327839Z",
     "start_time": "2019-12-15T23:18:05.454662Z"
    }
   },
   "outputs": [
    {
     "data": {
      "text/plain": [
       "0.6333333333333333"
      ]
     },
     "execution_count": 63,
     "metadata": {},
     "output_type": "execute_result"
    }
   ],
   "source": [
    "import xgboost as xgb\n",
    "clf = xgb.XGBClassifier()\n",
    "clf.fit(X_train_scaled, Y_train)\n",
    "pred = clf.predict(X_test_scaled)\n",
    "accuracy_score(Y_test, pred)"
   ]
  },
  {
   "cell_type": "markdown",
   "metadata": {},
   "source": [
    "#### Logistic regression"
   ]
  },
  {
   "cell_type": "code",
   "execution_count": 64,
   "metadata": {
    "ExecuteTime": {
     "end_time": "2019-12-15T23:19:06.584448Z",
     "start_time": "2019-12-15T23:18:57.744417Z"
    }
   },
   "outputs": [
    {
     "data": {
      "text/plain": [
       "0.6666666666666666"
      ]
     },
     "execution_count": 64,
     "metadata": {},
     "output_type": "execute_result"
    }
   ],
   "source": [
    "from sklearn.linear_model import LogisticRegression\n",
    "clf = LogisticRegression(penalty='elasticnet', solver='saga')\n",
    "clf.fit(X_train_scaled, Y_train)\n",
    "pred = clf.predict(X_test_scaled)\n",
    "accuracy_score(Y_test, pred)"
   ]
  },
  {
   "cell_type": "markdown",
   "metadata": {},
   "source": [
    "#### Naive Bayes"
   ]
  },
  {
   "cell_type": "code",
   "execution_count": 43,
   "metadata": {
    "ExecuteTime": {
     "end_time": "2019-12-15T08:23:05.529606Z",
     "start_time": "2019-12-15T08:23:05.192716Z"
    }
   },
   "outputs": [
    {
     "data": {
      "text/plain": [
       "0.5666666666666667"
      ]
     },
     "execution_count": 43,
     "metadata": {},
     "output_type": "execute_result"
    }
   ],
   "source": [
    "from sklearn.naive_bayes import GaussianNB\n",
    "clf = GaussianNB()\n",
    "clf.fit(X_train_scaled, Y_train)\n",
    "pred = clf.predict(X_test_scaled)\n",
    "accuracy_score(Y_test, pred)"
   ]
  }
 ],
 "metadata": {
  "kernelspec": {
   "display_name": "Python 3",
   "language": "python",
   "name": "python3"
  },
  "language_info": {
   "codemirror_mode": {
    "name": "ipython",
    "version": 3
   },
   "file_extension": ".py",
   "mimetype": "text/x-python",
   "name": "python",
   "nbconvert_exporter": "python",
   "pygments_lexer": "ipython3",
   "version": "3.6.5"
  }
 },
 "nbformat": 4,
 "nbformat_minor": 2
}
